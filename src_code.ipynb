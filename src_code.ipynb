{
 "cells": [
  {
   "cell_type": "markdown",
   "id": "233484c7",
   "metadata": {},
   "source": [
    "# Introduction to Artificial Intelligence Coursework"
   ]
  },
  {
   "cell_type": "markdown",
   "id": "73cf39db",
   "metadata": {},
   "source": [
    "> This notebook contains all the answers to the Question 1 of the Summative Assessment for EMATM0044: Introduction to AI Coursework Part 1"
   ]
  },
  {
   "cell_type": "markdown",
   "id": "add1df34",
   "metadata": {},
   "source": [
    "---"
   ]
  },
  {
   "cell_type": "markdown",
   "id": "c7cf569a",
   "metadata": {},
   "source": [
    "# Contents"
   ]
  },
  {
   "cell_type": "markdown",
   "id": "5750d50f",
   "metadata": {},
   "source": [
    "* [1. Introduction](#1.)\n",
    "* [2. Importing Libraries](#2.)\n",
    "* [3. Data](#3.)\n",
    "    * [3.1. Context](#3.1.)\n",
    "    * [3.2. Feature Information](#3.2.)\n",
    "* [4. Data Pre-Processing](#4.)\n",
    "* [5. Exploratory Data Analysis](#5.)\n",
    "* [6. Modelling](#6.)\n",
    "    * [6.1. K-Nearest Neighbors (KNN) Regressor](#6.1.)\n",
    "        * [6.1.1. Hyperparameter Tuning](#6.1.1.)\n",
    "    * [6.2. Decision Tree (DT) Regressor](#6.2.)\n",
    "        * [6.2.1. Hyperparameter Tuning](#6.2.1.)\n",
    "* [7. Evaluating on Test](#7.)       \n",
    "* [8. Conclusion](#8.)\n",
    "* [9. References](#9.)"
   ]
  },
  {
   "cell_type": "markdown",
   "id": "496a719b",
   "metadata": {},
   "source": [
    "---"
   ]
  },
  {
   "cell_type": "markdown",
   "id": "3221902d",
   "metadata": {},
   "source": [
    "# 1. Introduction <a class=\"anchor\" id=\"1.\"></a>"
   ]
  },
  {
   "cell_type": "markdown",
   "id": "bfce538f",
   "metadata": {},
   "source": [
    "> * In this notebook, I have chosen to explore the following two algorithms in detail:\n",
    "> * **K-Nearest Neighbors (KNN) Regressor** \n",
    "> * **Decision Tree (DT) Regressor**\n",
    "    "
   ]
  },
  {
   "cell_type": "markdown",
   "id": "674964ce",
   "metadata": {},
   "source": [
    "---"
   ]
  },
  {
   "cell_type": "markdown",
   "id": "9402818b",
   "metadata": {},
   "source": [
    "# 2. Importing Libraries <a class=\"anchor\" id=\"2.\"></a>"
   ]
  },
  {
   "cell_type": "code",
   "execution_count": 1,
   "id": "b6385e22",
   "metadata": {},
   "outputs": [],
   "source": [
    "# general libraries\n",
    "import numpy as np\n",
    "import pandas as pd \n",
    "\n",
    "# data visualiztion libraries\n",
    "import seaborn as sns\n",
    "import matplotlib.pyplot as plt\n",
    "%matplotlib inline\n",
    "\n",
    "# statistic and machine learning libraries\n",
    "import sklearn.metrics as metrics\n",
    "from sklearn.preprocessing import MinMaxScaler\n",
    "from sklearn.model_selection import train_test_split, GridSearchCV, RandomizedSearchCV\n",
    "from sklearn.neighbors import KNeighborsRegressor\n",
    "from sklearn.linear_model import LinearRegression\n",
    "from sklearn.metrics import mean_squared_error, r2_score\n",
    "from sklearn.dummy import DummyRegressor\n",
    "from sklearn.tree import DecisionTreeRegressor\n",
    "from sklearn.ensemble import RandomForestRegressor\n",
    "from datetime import datetime\n",
    "from sklearn.preprocessing import OneHotEncoder\n",
    "import calendar\n",
    "\n",
    "# warnings\n",
    "from warnings import filterwarnings\n",
    "filterwarnings('ignore')"
   ]
  },
  {
   "cell_type": "markdown",
   "id": "6f08c5f2",
   "metadata": {},
   "source": [
    "---"
   ]
  },
  {
   "cell_type": "markdown",
   "id": "8792d8a1",
   "metadata": {},
   "source": [
    "# 3. Data <a class=\"anchor\" id=\"3.\"></a>"
   ]
  },
  {
   "cell_type": "markdown",
   "id": "e19aa6e5",
   "metadata": {},
   "source": [
    "## 3.1. Context <a class=\"anchor\" id=\"3.1.\"></a>"
   ]
  },
  {
   "cell_type": "markdown",
   "id": "f17af1ef",
   "metadata": {},
   "source": [
    "> * Description of the data set as per the coursework specification:\n",
    "    * This dataset consists of the number of rental bikes out for rent at each hour (column Rented Bike count), together with other features such as the hour of the day, the date, humidity, and so on. \n",
    "    * The main purpose of this dataset is to predict the number of rental bikes out at each hour, given the values of the other features of the dataset"
   ]
  },
  {
   "cell_type": "code",
   "execution_count": 2,
   "id": "5a5ea776",
   "metadata": {},
   "outputs": [],
   "source": [
    "# loading the data set\n",
    "df = pd.read_csv(\"C:\\\\Users\\\\revon\\\\OneDrive - University of Bristol\\\\MSc DS @UoB\\\\TB-2\\\\Introduction to Artificial Intelligence\\\\AI Summative Assesment\\\\coursework_other.csv\")"
   ]
  },
  {
   "cell_type": "code",
   "execution_count": 3,
   "id": "855a32b9",
   "metadata": {},
   "outputs": [
    {
     "data": {
      "text/html": [
       "<div>\n",
       "<style scoped>\n",
       "    .dataframe tbody tr th:only-of-type {\n",
       "        vertical-align: middle;\n",
       "    }\n",
       "\n",
       "    .dataframe tbody tr th {\n",
       "        vertical-align: top;\n",
       "    }\n",
       "\n",
       "    .dataframe thead th {\n",
       "        text-align: right;\n",
       "    }\n",
       "</style>\n",
       "<table border=\"1\" class=\"dataframe\">\n",
       "  <thead>\n",
       "    <tr style=\"text-align: right;\">\n",
       "      <th></th>\n",
       "      <th>Date</th>\n",
       "      <th>Rented Bike Count</th>\n",
       "      <th>Hour</th>\n",
       "      <th>Temperature(�C)</th>\n",
       "      <th>Humidity(%)</th>\n",
       "      <th>Wind speed (m/s)</th>\n",
       "      <th>Visibility (10m)</th>\n",
       "      <th>Dew point temperature(�C)</th>\n",
       "      <th>Solar Radiation (MJ/m2)</th>\n",
       "      <th>Rainfall(mm)</th>\n",
       "      <th>Snowfall (cm)</th>\n",
       "      <th>Seasons</th>\n",
       "      <th>Holiday</th>\n",
       "      <th>Functioning Day</th>\n",
       "    </tr>\n",
       "  </thead>\n",
       "  <tbody>\n",
       "    <tr>\n",
       "      <th>0</th>\n",
       "      <td>01/12/2017</td>\n",
       "      <td>254</td>\n",
       "      <td>0</td>\n",
       "      <td>-5.2</td>\n",
       "      <td>37</td>\n",
       "      <td>2.2</td>\n",
       "      <td>2000</td>\n",
       "      <td>-17.6</td>\n",
       "      <td>0.0</td>\n",
       "      <td>0.0</td>\n",
       "      <td>0.0</td>\n",
       "      <td>Winter</td>\n",
       "      <td>No Holiday</td>\n",
       "      <td>Yes</td>\n",
       "    </tr>\n",
       "    <tr>\n",
       "      <th>1</th>\n",
       "      <td>01/12/2017</td>\n",
       "      <td>204</td>\n",
       "      <td>1</td>\n",
       "      <td>-5.5</td>\n",
       "      <td>38</td>\n",
       "      <td>0.8</td>\n",
       "      <td>2000</td>\n",
       "      <td>-17.6</td>\n",
       "      <td>0.0</td>\n",
       "      <td>0.0</td>\n",
       "      <td>0.0</td>\n",
       "      <td>Winter</td>\n",
       "      <td>No Holiday</td>\n",
       "      <td>Yes</td>\n",
       "    </tr>\n",
       "    <tr>\n",
       "      <th>2</th>\n",
       "      <td>01/12/2017</td>\n",
       "      <td>173</td>\n",
       "      <td>2</td>\n",
       "      <td>-6.0</td>\n",
       "      <td>39</td>\n",
       "      <td>1.0</td>\n",
       "      <td>2000</td>\n",
       "      <td>-17.7</td>\n",
       "      <td>0.0</td>\n",
       "      <td>0.0</td>\n",
       "      <td>0.0</td>\n",
       "      <td>Winter</td>\n",
       "      <td>No Holiday</td>\n",
       "      <td>Yes</td>\n",
       "    </tr>\n",
       "    <tr>\n",
       "      <th>3</th>\n",
       "      <td>01/12/2017</td>\n",
       "      <td>107</td>\n",
       "      <td>3</td>\n",
       "      <td>-6.2</td>\n",
       "      <td>40</td>\n",
       "      <td>0.9</td>\n",
       "      <td>2000</td>\n",
       "      <td>-17.6</td>\n",
       "      <td>0.0</td>\n",
       "      <td>0.0</td>\n",
       "      <td>0.0</td>\n",
       "      <td>Winter</td>\n",
       "      <td>No Holiday</td>\n",
       "      <td>Yes</td>\n",
       "    </tr>\n",
       "    <tr>\n",
       "      <th>4</th>\n",
       "      <td>01/12/2017</td>\n",
       "      <td>78</td>\n",
       "      <td>4</td>\n",
       "      <td>-6.0</td>\n",
       "      <td>36</td>\n",
       "      <td>2.3</td>\n",
       "      <td>2000</td>\n",
       "      <td>-18.6</td>\n",
       "      <td>0.0</td>\n",
       "      <td>0.0</td>\n",
       "      <td>0.0</td>\n",
       "      <td>Winter</td>\n",
       "      <td>No Holiday</td>\n",
       "      <td>Yes</td>\n",
       "    </tr>\n",
       "  </tbody>\n",
       "</table>\n",
       "</div>"
      ],
      "text/plain": [
       "         Date  Rented Bike Count  Hour  Temperature(�C)  Humidity(%)  \\\n",
       "0  01/12/2017                254     0             -5.2           37   \n",
       "1  01/12/2017                204     1             -5.5           38   \n",
       "2  01/12/2017                173     2             -6.0           39   \n",
       "3  01/12/2017                107     3             -6.2           40   \n",
       "4  01/12/2017                 78     4             -6.0           36   \n",
       "\n",
       "   Wind speed (m/s)  Visibility (10m)  Dew point temperature(�C)  \\\n",
       "0               2.2              2000                      -17.6   \n",
       "1               0.8              2000                      -17.6   \n",
       "2               1.0              2000                      -17.7   \n",
       "3               0.9              2000                      -17.6   \n",
       "4               2.3              2000                      -18.6   \n",
       "\n",
       "   Solar Radiation (MJ/m2)  Rainfall(mm)  Snowfall (cm) Seasons     Holiday  \\\n",
       "0                      0.0           0.0            0.0  Winter  No Holiday   \n",
       "1                      0.0           0.0            0.0  Winter  No Holiday   \n",
       "2                      0.0           0.0            0.0  Winter  No Holiday   \n",
       "3                      0.0           0.0            0.0  Winter  No Holiday   \n",
       "4                      0.0           0.0            0.0  Winter  No Holiday   \n",
       "\n",
       "  Functioning Day  \n",
       "0             Yes  \n",
       "1             Yes  \n",
       "2             Yes  \n",
       "3             Yes  \n",
       "4             Yes  "
      ]
     },
     "execution_count": 3,
     "metadata": {},
     "output_type": "execute_result"
    }
   ],
   "source": [
    "df.head()"
   ]
  },
  {
   "cell_type": "code",
   "execution_count": 4,
   "id": "dab50ddc",
   "metadata": {},
   "outputs": [
    {
     "data": {
      "text/html": [
       "<div>\n",
       "<style scoped>\n",
       "    .dataframe tbody tr th:only-of-type {\n",
       "        vertical-align: middle;\n",
       "    }\n",
       "\n",
       "    .dataframe tbody tr th {\n",
       "        vertical-align: top;\n",
       "    }\n",
       "\n",
       "    .dataframe thead th {\n",
       "        text-align: right;\n",
       "    }\n",
       "</style>\n",
       "<table border=\"1\" class=\"dataframe\">\n",
       "  <thead>\n",
       "    <tr style=\"text-align: right;\">\n",
       "      <th></th>\n",
       "      <th>Date</th>\n",
       "      <th>Rented Bike Count</th>\n",
       "      <th>Hour</th>\n",
       "      <th>Temperature(�C)</th>\n",
       "      <th>Humidity(%)</th>\n",
       "      <th>Wind speed (m/s)</th>\n",
       "      <th>Visibility (10m)</th>\n",
       "      <th>Dew point temperature(�C)</th>\n",
       "      <th>Solar Radiation (MJ/m2)</th>\n",
       "      <th>Rainfall(mm)</th>\n",
       "      <th>Snowfall (cm)</th>\n",
       "      <th>Seasons</th>\n",
       "      <th>Holiday</th>\n",
       "      <th>Functioning Day</th>\n",
       "    </tr>\n",
       "  </thead>\n",
       "  <tbody>\n",
       "    <tr>\n",
       "      <th>8755</th>\n",
       "      <td>30/11/2018</td>\n",
       "      <td>1003</td>\n",
       "      <td>19</td>\n",
       "      <td>4.2</td>\n",
       "      <td>34</td>\n",
       "      <td>2.6</td>\n",
       "      <td>1894</td>\n",
       "      <td>-10.3</td>\n",
       "      <td>0.0</td>\n",
       "      <td>0.0</td>\n",
       "      <td>0.0</td>\n",
       "      <td>Autumn</td>\n",
       "      <td>No Holiday</td>\n",
       "      <td>Yes</td>\n",
       "    </tr>\n",
       "    <tr>\n",
       "      <th>8756</th>\n",
       "      <td>30/11/2018</td>\n",
       "      <td>764</td>\n",
       "      <td>20</td>\n",
       "      <td>3.4</td>\n",
       "      <td>37</td>\n",
       "      <td>2.3</td>\n",
       "      <td>2000</td>\n",
       "      <td>-9.9</td>\n",
       "      <td>0.0</td>\n",
       "      <td>0.0</td>\n",
       "      <td>0.0</td>\n",
       "      <td>Autumn</td>\n",
       "      <td>No Holiday</td>\n",
       "      <td>Yes</td>\n",
       "    </tr>\n",
       "    <tr>\n",
       "      <th>8757</th>\n",
       "      <td>30/11/2018</td>\n",
       "      <td>694</td>\n",
       "      <td>21</td>\n",
       "      <td>2.6</td>\n",
       "      <td>39</td>\n",
       "      <td>0.3</td>\n",
       "      <td>1968</td>\n",
       "      <td>-9.9</td>\n",
       "      <td>0.0</td>\n",
       "      <td>0.0</td>\n",
       "      <td>0.0</td>\n",
       "      <td>Autumn</td>\n",
       "      <td>No Holiday</td>\n",
       "      <td>Yes</td>\n",
       "    </tr>\n",
       "    <tr>\n",
       "      <th>8758</th>\n",
       "      <td>30/11/2018</td>\n",
       "      <td>712</td>\n",
       "      <td>22</td>\n",
       "      <td>2.1</td>\n",
       "      <td>41</td>\n",
       "      <td>1.0</td>\n",
       "      <td>1859</td>\n",
       "      <td>-9.8</td>\n",
       "      <td>0.0</td>\n",
       "      <td>0.0</td>\n",
       "      <td>0.0</td>\n",
       "      <td>Autumn</td>\n",
       "      <td>No Holiday</td>\n",
       "      <td>Yes</td>\n",
       "    </tr>\n",
       "    <tr>\n",
       "      <th>8759</th>\n",
       "      <td>30/11/2018</td>\n",
       "      <td>584</td>\n",
       "      <td>23</td>\n",
       "      <td>1.9</td>\n",
       "      <td>43</td>\n",
       "      <td>1.3</td>\n",
       "      <td>1909</td>\n",
       "      <td>-9.3</td>\n",
       "      <td>0.0</td>\n",
       "      <td>0.0</td>\n",
       "      <td>0.0</td>\n",
       "      <td>Autumn</td>\n",
       "      <td>No Holiday</td>\n",
       "      <td>Yes</td>\n",
       "    </tr>\n",
       "  </tbody>\n",
       "</table>\n",
       "</div>"
      ],
      "text/plain": [
       "            Date  Rented Bike Count  Hour  Temperature(�C)  Humidity(%)  \\\n",
       "8755  30/11/2018               1003    19              4.2           34   \n",
       "8756  30/11/2018                764    20              3.4           37   \n",
       "8757  30/11/2018                694    21              2.6           39   \n",
       "8758  30/11/2018                712    22              2.1           41   \n",
       "8759  30/11/2018                584    23              1.9           43   \n",
       "\n",
       "      Wind speed (m/s)  Visibility (10m)  Dew point temperature(�C)  \\\n",
       "8755               2.6              1894                      -10.3   \n",
       "8756               2.3              2000                       -9.9   \n",
       "8757               0.3              1968                       -9.9   \n",
       "8758               1.0              1859                       -9.8   \n",
       "8759               1.3              1909                       -9.3   \n",
       "\n",
       "      Solar Radiation (MJ/m2)  Rainfall(mm)  Snowfall (cm) Seasons  \\\n",
       "8755                      0.0           0.0            0.0  Autumn   \n",
       "8756                      0.0           0.0            0.0  Autumn   \n",
       "8757                      0.0           0.0            0.0  Autumn   \n",
       "8758                      0.0           0.0            0.0  Autumn   \n",
       "8759                      0.0           0.0            0.0  Autumn   \n",
       "\n",
       "         Holiday Functioning Day  \n",
       "8755  No Holiday             Yes  \n",
       "8756  No Holiday             Yes  \n",
       "8757  No Holiday             Yes  \n",
       "8758  No Holiday             Yes  \n",
       "8759  No Holiday             Yes  "
      ]
     },
     "execution_count": 4,
     "metadata": {},
     "output_type": "execute_result"
    }
   ],
   "source": [
    "df.tail()"
   ]
  },
  {
   "cell_type": "markdown",
   "id": "f1f70437",
   "metadata": {},
   "source": [
    "## 3.2. Feature Information <a class=\"anchor\" id=\"3.2.\"></a>"
   ]
  },
  {
   "cell_type": "markdown",
   "id": "073491ad",
   "metadata": {},
   "source": [
    "> There are a total of 3 categorical features and 10 numerical features \n",
    "\n",
    "> * **Target Feature:**\n",
    "    * **Rented Bike Count**: Number of bikes rented\n",
    "\n",
    "> * **Remaining Features:** \n",
    "    * **Date**: Date on which the bikes were rented\n",
    "    * **Hour**: Hour at when the bikes were rented\n",
    "    * **Temperature(�C)**: Temperature in Celsius on a particular day and hour\n",
    "    * **Humidity(%)**: Humidity percentage on a particular day and hour\n",
    "    * **Wind speed (m/s)**: Wind speed in meters per second on a particular day and hour\n",
    "    * **Visibility (10m)**: Visibility on a particular day and hour\n",
    "    * **Dew point temperature(�C)**: Dew point Temperature in Celsius on a particular day and hour\n",
    "    * **Solar Radiation (MJ/m2)**: Solar radiation in megajoule per square meter on a particular day and hour\n",
    "    * **Rainfall(mm)**: Rainfall in millimeters on a particular day and hour\n",
    "    * **Snowfall (cm)**: Snowfall in centimeters on a particular day and hour\n",
    "    * **Seasons**: Season on a particular day\n",
    "    * **Holiday**: Was it a holiday?\n",
    "    * **Functioning Day**: Was it a functioning day?"
   ]
  },
  {
   "cell_type": "markdown",
   "id": "30a369f6",
   "metadata": {},
   "source": [
    "---"
   ]
  },
  {
   "cell_type": "markdown",
   "id": "2c41bc7d",
   "metadata": {},
   "source": [
    "# 4. Data Pre-Processing <a class=\"anchor\" id=\"4.\"></a>"
   ]
  },
  {
   "cell_type": "code",
   "execution_count": 5,
   "id": "df480fa6",
   "metadata": {},
   "outputs": [
    {
     "name": "stdout",
     "output_type": "stream",
     "text": [
      "<class 'pandas.core.frame.DataFrame'>\n",
      "RangeIndex: 8760 entries, 0 to 8759\n",
      "Data columns (total 14 columns):\n",
      " #   Column                     Non-Null Count  Dtype  \n",
      "---  ------                     --------------  -----  \n",
      " 0   Date                       8760 non-null   object \n",
      " 1   Rented Bike Count          8760 non-null   int64  \n",
      " 2   Hour                       8760 non-null   int64  \n",
      " 3   Temperature(�C)            8760 non-null   float64\n",
      " 4   Humidity(%)                8760 non-null   int64  \n",
      " 5   Wind speed (m/s)           8760 non-null   float64\n",
      " 6   Visibility (10m)           8760 non-null   int64  \n",
      " 7   Dew point temperature(�C)  8760 non-null   float64\n",
      " 8   Solar Radiation (MJ/m2)    8760 non-null   float64\n",
      " 9   Rainfall(mm)               8760 non-null   float64\n",
      " 10  Snowfall (cm)              8760 non-null   float64\n",
      " 11  Seasons                    8760 non-null   object \n",
      " 12  Holiday                    8760 non-null   object \n",
      " 13  Functioning Day            8760 non-null   object \n",
      "dtypes: float64(6), int64(4), object(4)\n",
      "memory usage: 958.2+ KB\n"
     ]
    }
   ],
   "source": [
    "# general information of the dataset\n",
    "df.info()"
   ]
  },
  {
   "cell_type": "code",
   "execution_count": 6,
   "id": "82117148",
   "metadata": {},
   "outputs": [
    {
     "data": {
      "text/html": [
       "<div>\n",
       "<style scoped>\n",
       "    .dataframe tbody tr th:only-of-type {\n",
       "        vertical-align: middle;\n",
       "    }\n",
       "\n",
       "    .dataframe tbody tr th {\n",
       "        vertical-align: top;\n",
       "    }\n",
       "\n",
       "    .dataframe thead th {\n",
       "        text-align: right;\n",
       "    }\n",
       "</style>\n",
       "<table border=\"1\" class=\"dataframe\">\n",
       "  <thead>\n",
       "    <tr style=\"text-align: right;\">\n",
       "      <th></th>\n",
       "      <th>Rented Bike Count</th>\n",
       "      <th>Hour</th>\n",
       "      <th>Temperature(�C)</th>\n",
       "      <th>Humidity(%)</th>\n",
       "      <th>Wind speed (m/s)</th>\n",
       "      <th>Visibility (10m)</th>\n",
       "      <th>Dew point temperature(�C)</th>\n",
       "      <th>Solar Radiation (MJ/m2)</th>\n",
       "      <th>Rainfall(mm)</th>\n",
       "      <th>Snowfall (cm)</th>\n",
       "    </tr>\n",
       "  </thead>\n",
       "  <tbody>\n",
       "    <tr>\n",
       "      <th>count</th>\n",
       "      <td>8760.000000</td>\n",
       "      <td>8760.000000</td>\n",
       "      <td>8760.000000</td>\n",
       "      <td>8760.000000</td>\n",
       "      <td>8760.000000</td>\n",
       "      <td>8760.000000</td>\n",
       "      <td>8760.000000</td>\n",
       "      <td>8760.000000</td>\n",
       "      <td>8760.000000</td>\n",
       "      <td>8760.000000</td>\n",
       "    </tr>\n",
       "    <tr>\n",
       "      <th>mean</th>\n",
       "      <td>704.602055</td>\n",
       "      <td>11.500000</td>\n",
       "      <td>12.882922</td>\n",
       "      <td>58.226256</td>\n",
       "      <td>1.724909</td>\n",
       "      <td>1436.825799</td>\n",
       "      <td>4.073813</td>\n",
       "      <td>0.569111</td>\n",
       "      <td>0.148687</td>\n",
       "      <td>0.075068</td>\n",
       "    </tr>\n",
       "    <tr>\n",
       "      <th>std</th>\n",
       "      <td>644.997468</td>\n",
       "      <td>6.922582</td>\n",
       "      <td>11.944825</td>\n",
       "      <td>20.362413</td>\n",
       "      <td>1.036300</td>\n",
       "      <td>608.298712</td>\n",
       "      <td>13.060369</td>\n",
       "      <td>0.868746</td>\n",
       "      <td>1.128193</td>\n",
       "      <td>0.436746</td>\n",
       "    </tr>\n",
       "    <tr>\n",
       "      <th>min</th>\n",
       "      <td>0.000000</td>\n",
       "      <td>0.000000</td>\n",
       "      <td>-17.800000</td>\n",
       "      <td>0.000000</td>\n",
       "      <td>0.000000</td>\n",
       "      <td>27.000000</td>\n",
       "      <td>-30.600000</td>\n",
       "      <td>0.000000</td>\n",
       "      <td>0.000000</td>\n",
       "      <td>0.000000</td>\n",
       "    </tr>\n",
       "    <tr>\n",
       "      <th>25%</th>\n",
       "      <td>191.000000</td>\n",
       "      <td>5.750000</td>\n",
       "      <td>3.500000</td>\n",
       "      <td>42.000000</td>\n",
       "      <td>0.900000</td>\n",
       "      <td>940.000000</td>\n",
       "      <td>-4.700000</td>\n",
       "      <td>0.000000</td>\n",
       "      <td>0.000000</td>\n",
       "      <td>0.000000</td>\n",
       "    </tr>\n",
       "    <tr>\n",
       "      <th>50%</th>\n",
       "      <td>504.500000</td>\n",
       "      <td>11.500000</td>\n",
       "      <td>13.700000</td>\n",
       "      <td>57.000000</td>\n",
       "      <td>1.500000</td>\n",
       "      <td>1698.000000</td>\n",
       "      <td>5.100000</td>\n",
       "      <td>0.010000</td>\n",
       "      <td>0.000000</td>\n",
       "      <td>0.000000</td>\n",
       "    </tr>\n",
       "    <tr>\n",
       "      <th>75%</th>\n",
       "      <td>1065.250000</td>\n",
       "      <td>17.250000</td>\n",
       "      <td>22.500000</td>\n",
       "      <td>74.000000</td>\n",
       "      <td>2.300000</td>\n",
       "      <td>2000.000000</td>\n",
       "      <td>14.800000</td>\n",
       "      <td>0.930000</td>\n",
       "      <td>0.000000</td>\n",
       "      <td>0.000000</td>\n",
       "    </tr>\n",
       "    <tr>\n",
       "      <th>max</th>\n",
       "      <td>3556.000000</td>\n",
       "      <td>23.000000</td>\n",
       "      <td>39.400000</td>\n",
       "      <td>98.000000</td>\n",
       "      <td>7.400000</td>\n",
       "      <td>2000.000000</td>\n",
       "      <td>27.200000</td>\n",
       "      <td>3.520000</td>\n",
       "      <td>35.000000</td>\n",
       "      <td>8.800000</td>\n",
       "    </tr>\n",
       "  </tbody>\n",
       "</table>\n",
       "</div>"
      ],
      "text/plain": [
       "       Rented Bike Count         Hour  Temperature(�C)  Humidity(%)  \\\n",
       "count        8760.000000  8760.000000      8760.000000  8760.000000   \n",
       "mean          704.602055    11.500000        12.882922    58.226256   \n",
       "std           644.997468     6.922582        11.944825    20.362413   \n",
       "min             0.000000     0.000000       -17.800000     0.000000   \n",
       "25%           191.000000     5.750000         3.500000    42.000000   \n",
       "50%           504.500000    11.500000        13.700000    57.000000   \n",
       "75%          1065.250000    17.250000        22.500000    74.000000   \n",
       "max          3556.000000    23.000000        39.400000    98.000000   \n",
       "\n",
       "       Wind speed (m/s)  Visibility (10m)  Dew point temperature(�C)  \\\n",
       "count       8760.000000       8760.000000                8760.000000   \n",
       "mean           1.724909       1436.825799                   4.073813   \n",
       "std            1.036300        608.298712                  13.060369   \n",
       "min            0.000000         27.000000                 -30.600000   \n",
       "25%            0.900000        940.000000                  -4.700000   \n",
       "50%            1.500000       1698.000000                   5.100000   \n",
       "75%            2.300000       2000.000000                  14.800000   \n",
       "max            7.400000       2000.000000                  27.200000   \n",
       "\n",
       "       Solar Radiation (MJ/m2)  Rainfall(mm)  Snowfall (cm)  \n",
       "count              8760.000000   8760.000000    8760.000000  \n",
       "mean                  0.569111      0.148687       0.075068  \n",
       "std                   0.868746      1.128193       0.436746  \n",
       "min                   0.000000      0.000000       0.000000  \n",
       "25%                   0.000000      0.000000       0.000000  \n",
       "50%                   0.010000      0.000000       0.000000  \n",
       "75%                   0.930000      0.000000       0.000000  \n",
       "max                   3.520000     35.000000       8.800000  "
      ]
     },
     "execution_count": 6,
     "metadata": {},
     "output_type": "execute_result"
    }
   ],
   "source": [
    "# general information of the dataset\n",
    "df.describe()"
   ]
  },
  {
   "cell_type": "code",
   "execution_count": 7,
   "id": "b9bc7519",
   "metadata": {},
   "outputs": [
    {
     "data": {
      "text/plain": [
       "Date                          365\n",
       "Rented Bike Count            2166\n",
       "Hour                           24\n",
       "Temperature(�C)               546\n",
       "Humidity(%)                    90\n",
       "Wind speed (m/s)               65\n",
       "Visibility (10m)             1789\n",
       "Dew point temperature(�C)     556\n",
       "Solar Radiation (MJ/m2)       345\n",
       "Rainfall(mm)                   61\n",
       "Snowfall (cm)                  51\n",
       "Seasons                         4\n",
       "Holiday                         2\n",
       "Functioning Day                 2\n",
       "dtype: int64"
      ]
     },
     "execution_count": 7,
     "metadata": {},
     "output_type": "execute_result"
    }
   ],
   "source": [
    "# number of unique values in each feature\n",
    "df.nunique()"
   ]
  },
  {
   "cell_type": "code",
   "execution_count": 8,
   "id": "ef46a6f0",
   "metadata": {},
   "outputs": [
    {
     "data": {
      "text/plain": [
       "Date                         0\n",
       "Rented Bike Count            0\n",
       "Hour                         0\n",
       "Temperature(�C)              0\n",
       "Humidity(%)                  0\n",
       "Wind speed (m/s)             0\n",
       "Visibility (10m)             0\n",
       "Dew point temperature(�C)    0\n",
       "Solar Radiation (MJ/m2)      0\n",
       "Rainfall(mm)                 0\n",
       "Snowfall (cm)                0\n",
       "Seasons                      0\n",
       "Holiday                      0\n",
       "Functioning Day              0\n",
       "dtype: int64"
      ]
     },
     "execution_count": 8,
     "metadata": {},
     "output_type": "execute_result"
    }
   ],
   "source": [
    "df.isnull().sum()"
   ]
  },
  {
   "cell_type": "markdown",
   "id": "20dfb7d2",
   "metadata": {},
   "source": [
    "- There are no missing values"
   ]
  },
  {
   "cell_type": "code",
   "execution_count": 9,
   "id": "b7c352ec",
   "metadata": {},
   "outputs": [],
   "source": [
    "df['Date'] = pd.to_datetime(df['Date'], dayfirst = True) #converting the 'Date' column to datetime data type"
   ]
  },
  {
   "cell_type": "code",
   "execution_count": 10,
   "id": "baf1820f",
   "metadata": {},
   "outputs": [],
   "source": [
    "df['Year'] = df['Date'].dt.year\n",
    "df['Month'] = df['Date'].dt.month\n",
    "df['Day'] = df['Date'].dt.day\n",
    "\n",
    "df = df.drop(['Date'], axis = 1)"
   ]
  },
  {
   "cell_type": "code",
   "execution_count": 11,
   "id": "3a42493a",
   "metadata": {},
   "outputs": [
    {
     "data": {
      "text/plain": [
       "2018    8016\n",
       "2017     744\n",
       "Name: Year, dtype: int64"
      ]
     },
     "execution_count": 11,
     "metadata": {},
     "output_type": "execute_result"
    }
   ],
   "source": [
    "df['Year'].value_counts()"
   ]
  },
  {
   "cell_type": "code",
   "execution_count": 12,
   "id": "394ce529",
   "metadata": {},
   "outputs": [
    {
     "data": {
      "text/plain": [
       "12    744\n",
       "Name: Month, dtype: int64"
      ]
     },
     "execution_count": 12,
     "metadata": {},
     "output_type": "execute_result"
    }
   ],
   "source": [
    "df_2017 = df[df['Year'] == 2017]\n",
    "df_2017['Month'].value_counts()"
   ]
  },
  {
   "cell_type": "markdown",
   "id": "6b078ceb",
   "metadata": {},
   "source": [
    "- 2017 only contains 1 month (december) data. Hence, the year column can be dropped"
   ]
  },
  {
   "cell_type": "code",
   "execution_count": 13,
   "id": "807182c4",
   "metadata": {},
   "outputs": [],
   "source": [
    "df = df.drop(['Year'], axis = 1)"
   ]
  },
  {
   "cell_type": "code",
   "execution_count": 14,
   "id": "3a9de2cc",
   "metadata": {},
   "outputs": [
    {
     "data": {
      "text/html": [
       "<div>\n",
       "<style scoped>\n",
       "    .dataframe tbody tr th:only-of-type {\n",
       "        vertical-align: middle;\n",
       "    }\n",
       "\n",
       "    .dataframe tbody tr th {\n",
       "        vertical-align: top;\n",
       "    }\n",
       "\n",
       "    .dataframe thead th {\n",
       "        text-align: right;\n",
       "    }\n",
       "</style>\n",
       "<table border=\"1\" class=\"dataframe\">\n",
       "  <thead>\n",
       "    <tr style=\"text-align: right;\">\n",
       "      <th></th>\n",
       "      <th>Hour</th>\n",
       "      <th>Temperature(�C)</th>\n",
       "      <th>Humidity(%)</th>\n",
       "      <th>Wind speed (m/s)</th>\n",
       "      <th>Visibility (10m)</th>\n",
       "      <th>Dew point temperature(�C)</th>\n",
       "      <th>Solar Radiation (MJ/m2)</th>\n",
       "      <th>Rainfall(mm)</th>\n",
       "      <th>Snowfall (cm)</th>\n",
       "      <th>Seasons</th>\n",
       "      <th>Holiday</th>\n",
       "      <th>Functioning Day</th>\n",
       "      <th>Month</th>\n",
       "      <th>Day</th>\n",
       "      <th>Rented Bike Count</th>\n",
       "    </tr>\n",
       "  </thead>\n",
       "  <tbody>\n",
       "    <tr>\n",
       "      <th>0</th>\n",
       "      <td>0</td>\n",
       "      <td>-5.2</td>\n",
       "      <td>37</td>\n",
       "      <td>2.2</td>\n",
       "      <td>2000</td>\n",
       "      <td>-17.6</td>\n",
       "      <td>0.0</td>\n",
       "      <td>0.0</td>\n",
       "      <td>0.0</td>\n",
       "      <td>Winter</td>\n",
       "      <td>No Holiday</td>\n",
       "      <td>Yes</td>\n",
       "      <td>12</td>\n",
       "      <td>1</td>\n",
       "      <td>254</td>\n",
       "    </tr>\n",
       "    <tr>\n",
       "      <th>1</th>\n",
       "      <td>1</td>\n",
       "      <td>-5.5</td>\n",
       "      <td>38</td>\n",
       "      <td>0.8</td>\n",
       "      <td>2000</td>\n",
       "      <td>-17.6</td>\n",
       "      <td>0.0</td>\n",
       "      <td>0.0</td>\n",
       "      <td>0.0</td>\n",
       "      <td>Winter</td>\n",
       "      <td>No Holiday</td>\n",
       "      <td>Yes</td>\n",
       "      <td>12</td>\n",
       "      <td>1</td>\n",
       "      <td>204</td>\n",
       "    </tr>\n",
       "    <tr>\n",
       "      <th>2</th>\n",
       "      <td>2</td>\n",
       "      <td>-6.0</td>\n",
       "      <td>39</td>\n",
       "      <td>1.0</td>\n",
       "      <td>2000</td>\n",
       "      <td>-17.7</td>\n",
       "      <td>0.0</td>\n",
       "      <td>0.0</td>\n",
       "      <td>0.0</td>\n",
       "      <td>Winter</td>\n",
       "      <td>No Holiday</td>\n",
       "      <td>Yes</td>\n",
       "      <td>12</td>\n",
       "      <td>1</td>\n",
       "      <td>173</td>\n",
       "    </tr>\n",
       "    <tr>\n",
       "      <th>3</th>\n",
       "      <td>3</td>\n",
       "      <td>-6.2</td>\n",
       "      <td>40</td>\n",
       "      <td>0.9</td>\n",
       "      <td>2000</td>\n",
       "      <td>-17.6</td>\n",
       "      <td>0.0</td>\n",
       "      <td>0.0</td>\n",
       "      <td>0.0</td>\n",
       "      <td>Winter</td>\n",
       "      <td>No Holiday</td>\n",
       "      <td>Yes</td>\n",
       "      <td>12</td>\n",
       "      <td>1</td>\n",
       "      <td>107</td>\n",
       "    </tr>\n",
       "    <tr>\n",
       "      <th>4</th>\n",
       "      <td>4</td>\n",
       "      <td>-6.0</td>\n",
       "      <td>36</td>\n",
       "      <td>2.3</td>\n",
       "      <td>2000</td>\n",
       "      <td>-18.6</td>\n",
       "      <td>0.0</td>\n",
       "      <td>0.0</td>\n",
       "      <td>0.0</td>\n",
       "      <td>Winter</td>\n",
       "      <td>No Holiday</td>\n",
       "      <td>Yes</td>\n",
       "      <td>12</td>\n",
       "      <td>1</td>\n",
       "      <td>78</td>\n",
       "    </tr>\n",
       "  </tbody>\n",
       "</table>\n",
       "</div>"
      ],
      "text/plain": [
       "   Hour  Temperature(�C)  Humidity(%)  Wind speed (m/s)  Visibility (10m)  \\\n",
       "0     0             -5.2           37               2.2              2000   \n",
       "1     1             -5.5           38               0.8              2000   \n",
       "2     2             -6.0           39               1.0              2000   \n",
       "3     3             -6.2           40               0.9              2000   \n",
       "4     4             -6.0           36               2.3              2000   \n",
       "\n",
       "   Dew point temperature(�C)  Solar Radiation (MJ/m2)  Rainfall(mm)  \\\n",
       "0                      -17.6                      0.0           0.0   \n",
       "1                      -17.6                      0.0           0.0   \n",
       "2                      -17.7                      0.0           0.0   \n",
       "3                      -17.6                      0.0           0.0   \n",
       "4                      -18.6                      0.0           0.0   \n",
       "\n",
       "   Snowfall (cm) Seasons     Holiday Functioning Day  Month  Day  \\\n",
       "0            0.0  Winter  No Holiday             Yes     12    1   \n",
       "1            0.0  Winter  No Holiday             Yes     12    1   \n",
       "2            0.0  Winter  No Holiday             Yes     12    1   \n",
       "3            0.0  Winter  No Holiday             Yes     12    1   \n",
       "4            0.0  Winter  No Holiday             Yes     12    1   \n",
       "\n",
       "   Rented Bike Count  \n",
       "0                254  \n",
       "1                204  \n",
       "2                173  \n",
       "3                107  \n",
       "4                 78  "
      ]
     },
     "execution_count": 14,
     "metadata": {},
     "output_type": "execute_result"
    }
   ],
   "source": [
    "# rearranging the target column to the last\n",
    "df = df.reindex(columns = [col for col in df.columns if col != 'Rented Bike Count'] + ['Rented Bike Count'])\n",
    "df.head()"
   ]
  },
  {
   "cell_type": "code",
   "execution_count": 15,
   "id": "3ca8c612",
   "metadata": {},
   "outputs": [
    {
     "name": "stdout",
     "output_type": "stream",
     "text": [
      "<class 'pandas.core.frame.DataFrame'>\n",
      "RangeIndex: 8760 entries, 0 to 8759\n",
      "Data columns (total 15 columns):\n",
      " #   Column                     Non-Null Count  Dtype  \n",
      "---  ------                     --------------  -----  \n",
      " 0   Hour                       8760 non-null   int64  \n",
      " 1   Temperature(�C)            8760 non-null   float64\n",
      " 2   Humidity(%)                8760 non-null   int64  \n",
      " 3   Wind speed (m/s)           8760 non-null   float64\n",
      " 4   Visibility (10m)           8760 non-null   int64  \n",
      " 5   Dew point temperature(�C)  8760 non-null   float64\n",
      " 6   Solar Radiation (MJ/m2)    8760 non-null   float64\n",
      " 7   Rainfall(mm)               8760 non-null   float64\n",
      " 8   Snowfall (cm)              8760 non-null   float64\n",
      " 9   Seasons                    8760 non-null   object \n",
      " 10  Holiday                    8760 non-null   object \n",
      " 11  Functioning Day            8760 non-null   object \n",
      " 12  Month                      8760 non-null   int64  \n",
      " 13  Day                        8760 non-null   int64  \n",
      " 14  Rented Bike Count          8760 non-null   int64  \n",
      "dtypes: float64(6), int64(6), object(3)\n",
      "memory usage: 1.0+ MB\n"
     ]
    }
   ],
   "source": [
    "df.info()"
   ]
  },
  {
   "cell_type": "markdown",
   "id": "6625bac9",
   "metadata": {},
   "source": [
    "# Numerical Features"
   ]
  },
  {
   "cell_type": "code",
   "execution_count": 16,
   "id": "ca9825b1",
   "metadata": {},
   "outputs": [
    {
     "name": "stdout",
     "output_type": "stream",
     "text": [
      "Index(['Hour', 'Temperature(�C)', 'Humidity(%)', 'Wind speed (m/s)',\n",
      "       'Visibility (10m)', 'Dew point temperature(�C)',\n",
      "       'Solar Radiation (MJ/m2)', 'Rainfall(mm)', 'Snowfall (cm)', 'Month',\n",
      "       'Day', 'Rented Bike Count'],\n",
      "      dtype='object')\n"
     ]
    }
   ],
   "source": [
    "# printing all numerical features\n",
    "df_numerical = df.select_dtypes(include=['int64','float64']).columns\n",
    "print(df_numerical)"
   ]
  },
  {
   "cell_type": "markdown",
   "id": "9679c194",
   "metadata": {},
   "source": [
    "# Categorical Features"
   ]
  },
  {
   "cell_type": "code",
   "execution_count": 17,
   "id": "8e251c24",
   "metadata": {},
   "outputs": [
    {
     "name": "stdout",
     "output_type": "stream",
     "text": [
      "Index(['Seasons', 'Holiday', 'Functioning Day'], dtype='object')\n"
     ]
    }
   ],
   "source": [
    "# printing all categorical features\n",
    "df_categorical = df.select_dtypes(include=['object']).columns\n",
    "print(df_categorical)"
   ]
  },
  {
   "cell_type": "markdown",
   "id": "e6d0bb76",
   "metadata": {},
   "source": [
    "---"
   ]
  },
  {
   "cell_type": "markdown",
   "id": "39228287",
   "metadata": {},
   "source": [
    "# 5. Exploratory Data Analysis <a class=\"anchor\" id=\"5.\"></a>"
   ]
  },
  {
   "cell_type": "code",
   "execution_count": 18,
   "id": "78d65664",
   "metadata": {},
   "outputs": [
    {
     "data": {
      "image/png": "[encoded data removed]",
      "text/plain": [
       "<Figure size 576x432 with 2 Axes>"
      ]
     },
     "metadata": {
      "needs_background": "light"
     },
     "output_type": "display_data"
    }
   ],
   "source": [
    "plt.figure(figsize = (8,6))\n",
    "sns.heatmap(df.corr())\n",
    "plt.title('Correlation Heatmap')\n",
    "plt.show()"
   ]
  },
  {
   "cell_type": "code",
   "execution_count": 19,
   "id": "9e3563f0",
   "metadata": {},
   "outputs": [
    {
     "data": {
      "image/png": "[encoded data removed]",
      "text/plain": [
       "<Figure size 432x288 with 1 Axes>"
      ]
     },
     "metadata": {
      "needs_background": "light"
     },
     "output_type": "display_data"
    },
    {
     "data": {
      "image/png": "[encoded data removed]",
      "text/plain": [
       "<Figure size 432x288 with 1 Axes>"
      ]
     },
     "metadata": {
      "needs_background": "light"
     },
     "output_type": "display_data"
    }
   ],
   "source": [
    "f = ['Holiday', 'Functioning Day']\n",
    "for i in f:\n",
    "    plt.figure()\n",
    "    sns.countplot(x = i, data = df)"
   ]
  },
  {
   "cell_type": "code",
   "execution_count": 20,
   "id": "bf084633",
   "metadata": {},
   "outputs": [
    {
     "data": {
      "image/png": "[encoded data removed]",
      "text/plain": [
       "<Figure size 720x432 with 1 Axes>"
      ]
     },
     "metadata": {
      "needs_background": "light"
     },
     "output_type": "display_data"
    }
   ],
   "source": [
    "# number of bikes rented per month \n",
    "by_month = df.groupby('Month')['Rented Bike Count'].sum()\n",
    "# plot figure\n",
    "plt.figure(figsize=(10,6))\n",
    "plt.plot(by_month, color=\"blue\")\n",
    "plt.xlabel('Month')\n",
    "plt.ylabel('Rented Bike Count')\n",
    "plt.title('Number of bikes rented per month')\n",
    "plt.xticks(np.arange(13), calendar.month_name[0:13], rotation=20)\n",
    "plt.grid()\n",
    "plt.show()"
   ]
  },
  {
   "cell_type": "markdown",
   "id": "66b02534",
   "metadata": {},
   "source": [
    "- Most number of bikes were rented in the summer months. People did not prefer renting the bikes in the winter, probably due to the cold weather."
   ]
  },
  {
   "cell_type": "code",
   "execution_count": 21,
   "id": "86d7ecad",
   "metadata": {},
   "outputs": [
    {
     "data": {
      "image/png": "[encoded data removed]",
      "text/plain": [
       "<Figure size 720x432 with 1 Axes>"
      ]
     },
     "metadata": {
      "needs_background": "light"
     },
     "output_type": "display_data"
    }
   ],
   "source": [
    "# plot to visualize the correlation\n",
    "df.corr()['Rented Bike Count'].sort_values().drop('Rented Bike Count').plot(kind='bar',figsize = (10,6))\n",
    "plt.xlabel('Feature')\n",
    "plt.ylabel('Correlation')\n",
    "plt.title('Correlation with the target variable')\n",
    "plt.show()"
   ]
  },
  {
   "cell_type": "markdown",
   "id": "068c87fd",
   "metadata": {},
   "source": [
    "> **Insights:**\n",
    "> * **Negatively correlated:**\n",
    "    * Humidity(%)     \n",
    "    * Snowfall (cm)\n",
    "    * Rainfall(mm)   \n",
    "> * **Low Correlation:**\n",
    "    * Day"
   ]
  },
  {
   "cell_type": "markdown",
   "id": "ff26a727",
   "metadata": {},
   "source": [
    "---"
   ]
  },
  {
   "cell_type": "markdown",
   "id": "73b5adcd",
   "metadata": {},
   "source": [
    "# 6. Modelling <a class=\"anchor\" id=\"6.\"></a>"
   ]
  },
  {
   "cell_type": "code",
   "execution_count": 22,
   "id": "d01c9459",
   "metadata": {},
   "outputs": [],
   "source": [
    "# binary encoding the categorical features\n",
    "df['Holiday'].replace({'No Holiday': 0, 'Holiday': 1},inplace = True)\n",
    "df['Functioning Day'].replace({'No': 0, 'Yes': 1},inplace = True)"
   ]
  },
  {
   "cell_type": "code",
   "execution_count": 23,
   "id": "19dbd184",
   "metadata": {},
   "outputs": [],
   "source": [
    "# one hot encoding the \"seasons\" feature\n",
    "ohe = OneHotEncoder(sparse=False, drop='first')\n",
    "ohe_df = pd.DataFrame(ohe.fit_transform(df[['Seasons']]))\n",
    "ohe_df.columns = ohe.get_feature_names(['Seasons'])\n",
    "df.drop(['Seasons'] ,axis=1, inplace=True)\n",
    "df = pd.concat([df, ohe_df ], axis=1)"
   ]
  },
  {
   "cell_type": "code",
   "execution_count": 24,
   "id": "f79315df",
   "metadata": {},
   "outputs": [
    {
     "data": {
      "text/html": [
       "<div>\n",
       "<style scoped>\n",
       "    .dataframe tbody tr th:only-of-type {\n",
       "        vertical-align: middle;\n",
       "    }\n",
       "\n",
       "    .dataframe tbody tr th {\n",
       "        vertical-align: top;\n",
       "    }\n",
       "\n",
       "    .dataframe thead th {\n",
       "        text-align: right;\n",
       "    }\n",
       "</style>\n",
       "<table border=\"1\" class=\"dataframe\">\n",
       "  <thead>\n",
       "    <tr style=\"text-align: right;\">\n",
       "      <th></th>\n",
       "      <th>Hour</th>\n",
       "      <th>Temperature(�C)</th>\n",
       "      <th>Humidity(%)</th>\n",
       "      <th>Wind speed (m/s)</th>\n",
       "      <th>Visibility (10m)</th>\n",
       "      <th>Dew point temperature(�C)</th>\n",
       "      <th>Solar Radiation (MJ/m2)</th>\n",
       "      <th>Rainfall(mm)</th>\n",
       "      <th>Snowfall (cm)</th>\n",
       "      <th>Holiday</th>\n",
       "      <th>Functioning Day</th>\n",
       "      <th>Month</th>\n",
       "      <th>Day</th>\n",
       "      <th>Rented Bike Count</th>\n",
       "      <th>Seasons_Spring</th>\n",
       "      <th>Seasons_Summer</th>\n",
       "      <th>Seasons_Winter</th>\n",
       "    </tr>\n",
       "  </thead>\n",
       "  <tbody>\n",
       "    <tr>\n",
       "      <th>0</th>\n",
       "      <td>0</td>\n",
       "      <td>-5.2</td>\n",
       "      <td>37</td>\n",
       "      <td>2.2</td>\n",
       "      <td>2000</td>\n",
       "      <td>-17.6</td>\n",
       "      <td>0.0</td>\n",
       "      <td>0.0</td>\n",
       "      <td>0.0</td>\n",
       "      <td>0</td>\n",
       "      <td>1</td>\n",
       "      <td>12</td>\n",
       "      <td>1</td>\n",
       "      <td>254</td>\n",
       "      <td>0.0</td>\n",
       "      <td>0.0</td>\n",
       "      <td>1.0</td>\n",
       "    </tr>\n",
       "    <tr>\n",
       "      <th>1</th>\n",
       "      <td>1</td>\n",
       "      <td>-5.5</td>\n",
       "      <td>38</td>\n",
       "      <td>0.8</td>\n",
       "      <td>2000</td>\n",
       "      <td>-17.6</td>\n",
       "      <td>0.0</td>\n",
       "      <td>0.0</td>\n",
       "      <td>0.0</td>\n",
       "      <td>0</td>\n",
       "      <td>1</td>\n",
       "      <td>12</td>\n",
       "      <td>1</td>\n",
       "      <td>204</td>\n",
       "      <td>0.0</td>\n",
       "      <td>0.0</td>\n",
       "      <td>1.0</td>\n",
       "    </tr>\n",
       "    <tr>\n",
       "      <th>2</th>\n",
       "      <td>2</td>\n",
       "      <td>-6.0</td>\n",
       "      <td>39</td>\n",
       "      <td>1.0</td>\n",
       "      <td>2000</td>\n",
       "      <td>-17.7</td>\n",
       "      <td>0.0</td>\n",
       "      <td>0.0</td>\n",
       "      <td>0.0</td>\n",
       "      <td>0</td>\n",
       "      <td>1</td>\n",
       "      <td>12</td>\n",
       "      <td>1</td>\n",
       "      <td>173</td>\n",
       "      <td>0.0</td>\n",
       "      <td>0.0</td>\n",
       "      <td>1.0</td>\n",
       "    </tr>\n",
       "    <tr>\n",
       "      <th>3</th>\n",
       "      <td>3</td>\n",
       "      <td>-6.2</td>\n",
       "      <td>40</td>\n",
       "      <td>0.9</td>\n",
       "      <td>2000</td>\n",
       "      <td>-17.6</td>\n",
       "      <td>0.0</td>\n",
       "      <td>0.0</td>\n",
       "      <td>0.0</td>\n",
       "      <td>0</td>\n",
       "      <td>1</td>\n",
       "      <td>12</td>\n",
       "      <td>1</td>\n",
       "      <td>107</td>\n",
       "      <td>0.0</td>\n",
       "      <td>0.0</td>\n",
       "      <td>1.0</td>\n",
       "    </tr>\n",
       "    <tr>\n",
       "      <th>4</th>\n",
       "      <td>4</td>\n",
       "      <td>-6.0</td>\n",
       "      <td>36</td>\n",
       "      <td>2.3</td>\n",
       "      <td>2000</td>\n",
       "      <td>-18.6</td>\n",
       "      <td>0.0</td>\n",
       "      <td>0.0</td>\n",
       "      <td>0.0</td>\n",
       "      <td>0</td>\n",
       "      <td>1</td>\n",
       "      <td>12</td>\n",
       "      <td>1</td>\n",
       "      <td>78</td>\n",
       "      <td>0.0</td>\n",
       "      <td>0.0</td>\n",
       "      <td>1.0</td>\n",
       "    </tr>\n",
       "  </tbody>\n",
       "</table>\n",
       "</div>"
      ],
      "text/plain": [
       "   Hour  Temperature(�C)  Humidity(%)  Wind speed (m/s)  Visibility (10m)  \\\n",
       "0     0             -5.2           37               2.2              2000   \n",
       "1     1             -5.5           38               0.8              2000   \n",
       "2     2             -6.0           39               1.0              2000   \n",
       "3     3             -6.2           40               0.9              2000   \n",
       "4     4             -6.0           36               2.3              2000   \n",
       "\n",
       "   Dew point temperature(�C)  Solar Radiation (MJ/m2)  Rainfall(mm)  \\\n",
       "0                      -17.6                      0.0           0.0   \n",
       "1                      -17.6                      0.0           0.0   \n",
       "2                      -17.7                      0.0           0.0   \n",
       "3                      -17.6                      0.0           0.0   \n",
       "4                      -18.6                      0.0           0.0   \n",
       "\n",
       "   Snowfall (cm)  Holiday  Functioning Day  Month  Day  Rented Bike Count  \\\n",
       "0            0.0        0                1     12    1                254   \n",
       "1            0.0        0                1     12    1                204   \n",
       "2            0.0        0                1     12    1                173   \n",
       "3            0.0        0                1     12    1                107   \n",
       "4            0.0        0                1     12    1                 78   \n",
       "\n",
       "   Seasons_Spring  Seasons_Summer  Seasons_Winter  \n",
       "0             0.0             0.0             1.0  \n",
       "1             0.0             0.0             1.0  \n",
       "2             0.0             0.0             1.0  \n",
       "3             0.0             0.0             1.0  \n",
       "4             0.0             0.0             1.0  "
      ]
     },
     "execution_count": 24,
     "metadata": {},
     "output_type": "execute_result"
    }
   ],
   "source": [
    "df.head()"
   ]
  },
  {
   "cell_type": "code",
   "execution_count": 25,
   "id": "1aff2cb1",
   "metadata": {},
   "outputs": [
    {
     "name": "stdout",
     "output_type": "stream",
     "text": [
      "<class 'pandas.core.frame.DataFrame'>\n",
      "RangeIndex: 8760 entries, 0 to 8759\n",
      "Data columns (total 17 columns):\n",
      " #   Column                     Non-Null Count  Dtype  \n",
      "---  ------                     --------------  -----  \n",
      " 0   Hour                       8760 non-null   int64  \n",
      " 1   Temperature(�C)            8760 non-null   float64\n",
      " 2   Humidity(%)                8760 non-null   int64  \n",
      " 3   Wind speed (m/s)           8760 non-null   float64\n",
      " 4   Visibility (10m)           8760 non-null   int64  \n",
      " 5   Dew point temperature(�C)  8760 non-null   float64\n",
      " 6   Solar Radiation (MJ/m2)    8760 non-null   float64\n",
      " 7   Rainfall(mm)               8760 non-null   float64\n",
      " 8   Snowfall (cm)              8760 non-null   float64\n",
      " 9   Holiday                    8760 non-null   int64  \n",
      " 10  Functioning Day            8760 non-null   int64  \n",
      " 11  Month                      8760 non-null   int64  \n",
      " 12  Day                        8760 non-null   int64  \n",
      " 13  Rented Bike Count          8760 non-null   int64  \n",
      " 14  Seasons_Spring             8760 non-null   float64\n",
      " 15  Seasons_Summer             8760 non-null   float64\n",
      " 16  Seasons_Winter             8760 non-null   float64\n",
      "dtypes: float64(9), int64(8)\n",
      "memory usage: 1.1 MB\n"
     ]
    }
   ],
   "source": [
    "df.info()"
   ]
  },
  {
   "cell_type": "code",
   "execution_count": 26,
   "id": "ea4a24c0",
   "metadata": {},
   "outputs": [],
   "source": [
    "# defining X and y\n",
    "X = df.drop(['Rented Bike Count'], axis =1)\n",
    "y = df['Rented Bike Count']"
   ]
  },
  {
   "cell_type": "code",
   "execution_count": 27,
   "id": "5f9ed6fd",
   "metadata": {},
   "outputs": [],
   "source": [
    "# splitting data into train, validations and test sets\n",
    "X_train, X_test, y_train, y_test = train_test_split(X, y, test_size = 0.1, random_state = 10)\n",
    "X_train, X_valid, y_train, y_valid = train_test_split(X_train, y_train, test_size = 0.111, random_state = 10)"
   ]
  },
  {
   "cell_type": "code",
   "execution_count": 28,
   "id": "8998aaf9",
   "metadata": {},
   "outputs": [
    {
     "name": "stdout",
     "output_type": "stream",
     "text": [
      "(7008, 16)\n",
      "(7008,)\n",
      "(876, 16)\n",
      "(876,)\n",
      "(876, 16)\n",
      "(876,)\n"
     ]
    },
    {
     "data": {
      "text/plain": [
       "(None, None)"
      ]
     },
     "execution_count": 28,
     "metadata": {},
     "output_type": "execute_result"
    }
   ],
   "source": [
    "# printing shapes of split data\n",
    "print(X_train.shape), print(y_train.shape)\n",
    "print(X_valid.shape), print(y_valid.shape)\n",
    "print(X_test.shape), print(y_test.shape)"
   ]
  },
  {
   "cell_type": "code",
   "execution_count": 29,
   "id": "d26234e5",
   "metadata": {},
   "outputs": [],
   "source": [
    "# normalising the data for few algorithms\n",
    "norm = MinMaxScaler().fit(X_train)\n",
    "X_train_norm = pd.DataFrame(norm.transform(X_train))  \n",
    "X_valid_norm = pd.DataFrame(norm.transform(X_valid)) \n",
    "X_test_norm = pd.DataFrame(norm.transform(X_test)) "
   ]
  },
  {
   "cell_type": "code",
   "execution_count": 30,
   "id": "b89ed6d9",
   "metadata": {},
   "outputs": [
    {
     "name": "stdout",
     "output_type": "stream",
     "text": [
      "Linear Regresion\n",
      "R2: 0.56\n",
      "RMSE: 441.09\n",
      "------------------------------\n",
      "KNN Regressor\n",
      "R2: 0.55\n",
      "RMSE: 446.44\n",
      "------------------------------\n",
      "Decision Tree Regressor\n",
      "R2: 0.80\n",
      "RMSE: 293.76\n",
      "------------------------------\n",
      "Random Forest\n",
      "R2: 0.88\n",
      "RMSE: 232.31\n",
      "------------------------------\n"
     ]
    }
   ],
   "source": [
    "# Regression Models\n",
    "models = [('Linear Regresion', LinearRegression()),\n",
    "          ('KNN Regressor', KNeighborsRegressor()),\n",
    "          ('Decision Tree Regressor', DecisionTreeRegressor()),\n",
    "          ('Random Forest', RandomForestRegressor())]\n",
    "\n",
    "for model in models: #for loop through the models\n",
    "    reg = model[1]  #initialize the model object\n",
    "    reg.fit(X_train,y_train)  #fitting the training data\n",
    "    y_pred = reg.predict(X_valid)  #predict target\n",
    "    print(model[0])\n",
    "    # performance metrics\n",
    "    print('R2: {:0.2f}'.format(r2_score(y_valid, y_pred)))\n",
    "    print('RMSE: {:0.2f}'.format(np.sqrt(mean_squared_error(y_valid, y_pred))))\n",
    "    print('-'*30)"
   ]
  },
  {
   "cell_type": "markdown",
   "id": "c15fe2d8",
   "metadata": {},
   "source": [
    "## Baseline model"
   ]
  },
  {
   "cell_type": "code",
   "execution_count": 31,
   "id": "f97b4436",
   "metadata": {},
   "outputs": [
    {
     "name": "stdout",
     "output_type": "stream",
     "text": [
      "Dummy Model\n",
      "------------------------------\n",
      "Train R2 Score: 0.00\n",
      "R2 Score: -0.00\n",
      "RMSE: 662.65\n",
      "Time to compute: 0.0010 seconds\n",
      "----------------------------------------------------------------------------------------------------\n"
     ]
    },
    {
     "data": {
      "image/png": "[encoded data removed]",
      "text/plain": [
       "<Figure size 432x288 with 1 Axes>"
      ]
     },
     "metadata": {
      "needs_background": "light"
     },
     "output_type": "display_data"
    },
    {
     "name": "stdout",
     "output_type": "stream",
     "text": [
      "----------------------------------------------------------------------------------------------------\n"
     ]
    },
    {
     "data": {
      "image/png": "[encoded data removed]",
      "text/plain": [
       "<Figure size 432x288 with 1 Axes>"
      ]
     },
     "metadata": {
      "needs_background": "light"
     },
     "output_type": "display_data"
    }
   ],
   "source": [
    "dummy_model = DummyRegressor()\n",
    "\n",
    "start = datetime.now()\n",
    "dummy_model.fit(X_train, y_train)\n",
    "y_pred_train = dummy_model.predict(X_train)\n",
    "y_pred = dummy_model.predict(X_valid)\n",
    "stop = datetime.now()\n",
    "delta = stop - start\n",
    "\n",
    "# performance metrics\n",
    "print('Dummy Model')\n",
    "print('-'*30)\n",
    "r2scoretr = r2_score(y_train, y_pred_train)\n",
    "print('Train R2 Score: {:0.2f}'.format(r2scoretr))\n",
    "r2score = r2_score(y_valid, y_pred)\n",
    "print('R2 Score: {:0.2f}'.format(r2score))  \n",
    "rmse = np.sqrt(mean_squared_error(y_valid, y_pred))\n",
    "print('RMSE: {:0.2f}'.format(rmse))\n",
    "seconds = delta.seconds + delta.microseconds/1E6\n",
    "print('Time to compute: {:0.4f}'.format(seconds), 'seconds')\n",
    "print('-'*100)\n",
    "\n",
    "plt.figure(figsize=(6,4))\n",
    "plt.ylim(0, 3500)\n",
    "plt.xlim(0, 3500)\n",
    "plt.scatter(y_pred, y_valid, color='black')\n",
    "x = np.linspace(0,3500,100) \n",
    "y = x\n",
    "plt.plot(x, y, color='blue')\n",
    "plt.xlabel(\"Actual\")\n",
    "plt.ylabel(\"Predicted\")\n",
    "plt.title('Actual vs Predicted values Plot')\n",
    "plt.grid()\n",
    "plt.show()\n",
    "\n",
    "print('-'*100)\n",
    "\n",
    "plt.figure(figsize=(6,4))\n",
    "y = np.linspace(0,3500,100)\n",
    "x = np.linspace(0,0)\n",
    "residuals = y_valid - y_pred\n",
    "plt.scatter(x = y_valid, y = residuals, color = 'black')\n",
    "plt.axhline(y=0, color='b', linestyle='-')\n",
    "plt.xlabel(\"Actual\")\n",
    "plt.ylabel(\"Residuals\")\n",
    "plt.title('Residual Plot')\n",
    "plt.grid()\n",
    "plt.show()\n",
    "\n",
    "baseline_model = ('Dummy Model', r2scoretr, r2score, rmse, seconds)"
   ]
  },
  {
   "cell_type": "markdown",
   "id": "696639a9",
   "metadata": {},
   "source": [
    "## 6.1. KNN Regressor <a class=\"anchor\" id=\"6.1.\"></a>"
   ]
  },
  {
   "cell_type": "code",
   "execution_count": 32,
   "id": "5bdae82f",
   "metadata": {},
   "outputs": [
    {
     "name": "stdout",
     "output_type": "stream",
     "text": [
      "KNN Regressor\n",
      "------------------------------\n",
      "Train R2 Score: 0.88\n",
      "Validation R2 Score: 0.81\n",
      "RMSE: 289.36\n",
      "Time to compute: 1.2814 seconds\n",
      "----------------------------------------------------------------------------------------------------\n"
     ]
    },
    {
     "data": {
      "image/png": "[encoded data removed]",
      "text/plain": [
       "<Figure size 432x288 with 1 Axes>"
      ]
     },
     "metadata": {
      "needs_background": "light"
     },
     "output_type": "display_data"
    },
    {
     "name": "stdout",
     "output_type": "stream",
     "text": [
      "----------------------------------------------------------------------------------------------------\n"
     ]
    },
    {
     "data": {
      "image/png": "[encoded data removed]",
      "text/plain": [
       "<Figure size 432x288 with 1 Axes>"
      ]
     },
     "metadata": {
      "needs_background": "light"
     },
     "output_type": "display_data"
    }
   ],
   "source": [
    "# KNN Regressor\n",
    "knn = KNeighborsRegressor() \n",
    "\n",
    "start = datetime.now()\n",
    "knn.fit(X_train_norm, y_train)\n",
    "y_pred_train = knn.predict(X_train_norm)\n",
    "y_pred = knn.predict(X_valid_norm)\n",
    "stop = datetime.now()\n",
    "delta = stop - start\n",
    "\n",
    "# performance metrics\n",
    "print('KNN Regressor')\n",
    "print('-'*30)\n",
    "r2scoretr = r2_score(y_train, y_pred_train)\n",
    "print('Train R2 Score: {:0.2f}'.format(r2scoretr))\n",
    "r2score = r2_score(y_valid, y_pred)\n",
    "print('Validation R2 Score: {:0.2f}'.format(r2score))  \n",
    "rmse = np.sqrt(mean_squared_error(y_valid, y_pred))\n",
    "print('RMSE: {:0.2f}'.format(rmse))\n",
    "seconds = delta.seconds + delta.microseconds/1E6\n",
    "print('Time to compute: {:0.4f}'.format(seconds), 'seconds')\n",
    "print('-'*100)\n",
    "\n",
    "plt.figure(figsize=(6,4))\n",
    "plt.ylim(0, 3500)\n",
    "plt.xlim(0, 3500)\n",
    "plt.scatter(y_pred, y_valid, color='black')\n",
    "x = np.linspace(0,3500,100) \n",
    "y = x\n",
    "plt.plot(x, y, color='blue')\n",
    "plt.xlabel(\"Actual\")\n",
    "plt.ylabel(\"Predicted\")\n",
    "plt.title('Actual vs Predicted values Plot')\n",
    "plt.grid()\n",
    "plt.show()\n",
    "\n",
    "print('-'*100)\n",
    "\n",
    "plt.figure(figsize=(6,4))\n",
    "y = np.linspace(0,3500,100)\n",
    "x = np.linspace(0,0)\n",
    "residuals = y_valid - y_pred\n",
    "plt.scatter(x = y_valid, y = residuals, color = 'black')\n",
    "plt.axhline(y=0, color='b', linestyle='-')\n",
    "plt.xlabel(\"Actual\")\n",
    "plt.ylabel(\"Residuals\")\n",
    "plt.title('Residual Plot')\n",
    "plt.grid()\n",
    "plt.show()\n",
    "\n",
    "knn_model = ('KNN Regressor', r2scoretr, r2score, rmse, seconds)"
   ]
  },
  {
   "cell_type": "markdown",
   "id": "0bd221b5",
   "metadata": {},
   "source": [
    "### 6.1.1. Hyper parameter tuning <a class=\"anchor\" id=\"6.1.1.\"></a>"
   ]
  },
  {
   "cell_type": "code",
   "execution_count": 33,
   "id": "491e6a80",
   "metadata": {},
   "outputs": [
    {
     "name": "stdout",
     "output_type": "stream",
     "text": [
      "KNeighborsRegressor(n_neighbors=4, p=1)\n",
      "------------------------------\n",
      "KNN Regressor Tuned\n",
      "------------------------------\n",
      "Train R2 score: 0.90\n",
      "Validation R2 score: 0.83\n",
      "RMSE: 276.11\n",
      "Time to compute: 1.1555 seconds\n",
      "----------------------------------------------------------------------------------------------------\n"
     ]
    },
    {
     "data": {
      "image/png": "[encoded data removed]",
      "text/plain": [
       "<Figure size 432x288 with 1 Axes>"
      ]
     },
     "metadata": {
      "needs_background": "light"
     },
     "output_type": "display_data"
    },
    {
     "name": "stdout",
     "output_type": "stream",
     "text": [
      "----------------------------------------------------------------------------------------------------\n"
     ]
    },
    {
     "data": {
      "image/png": "[encoded data removed]",
      "text/plain": [
       "<Figure size 432x288 with 1 Axes>"
      ]
     },
     "metadata": {
      "needs_background": "light"
     },
     "output_type": "display_data"
    }
   ],
   "source": [
    "params = {\n",
    "    'n_neighbors': list(range(1,11)), \n",
    "    'p': [1,2] # p=1 compute manhattan distance, p=2 compute euclidean distance\n",
    "    }\n",
    "\n",
    "knn = KNeighborsRegressor()\n",
    "\n",
    "grid_knn = GridSearchCV(estimator = knn, param_grid = params, cv=5, n_jobs=-1)\n",
    "\n",
    "grid_knn.fit(X_train_norm, y_train)\n",
    "print(grid_knn.best_estimator_)\n",
    "print('-'*30)\n",
    "\n",
    "knn = grid_knn.best_estimator_\n",
    "\n",
    "start = datetime.now()\n",
    "knn.fit(X_train_norm, y_train)\n",
    "y_pred_train = knn.predict(X_train_norm)\n",
    "y_pred = knn.predict(X_valid_norm)\n",
    "stop = datetime.now()\n",
    "delta = stop - start\n",
    "\n",
    "# performance metrics\n",
    "print('KNN Regressor Tuned')\n",
    "print('-'*30)\n",
    "r2scoretr = r2_score(y_train, y_pred_train)\n",
    "print('Train R2 score: {:0.2f}'.format(r2scoretr))\n",
    "r2score = r2_score(y_valid, y_pred)\n",
    "print('Validation R2 score: {:0.2f}'.format(r2score))  \n",
    "rmse = np.sqrt(mean_squared_error(y_valid, y_pred))\n",
    "print('RMSE: {:0.2f}'.format(rmse))\n",
    "seconds = delta.seconds + delta.microseconds/1E6\n",
    "print('Time to compute: {:0.4f}'.format(seconds), 'seconds')\n",
    "print('-'*100)\n",
    "\n",
    "plt.figure(figsize=(6,4))\n",
    "plt.ylim(0, 3500)\n",
    "plt.xlim(0, 3500)\n",
    "plt.scatter(y_pred, y_valid, color='black')\n",
    "x = np.linspace(0,3500,100) \n",
    "y = x\n",
    "plt.plot(x, y, color='blue')\n",
    "plt.xlabel(\"Actual\")\n",
    "plt.ylabel(\"Predicted\")\n",
    "plt.title('Actual vs Predicted values Plot')\n",
    "plt.grid()\n",
    "plt.show()\n",
    "\n",
    "print('-'*100)\n",
    "\n",
    "plt.figure(figsize=(6,4))\n",
    "y = np.linspace(0,3500,100)\n",
    "x = np.linspace(0,0)\n",
    "residuals = y_valid - y_pred\n",
    "plt.scatter(x = y_valid, y = residuals, color = 'black')\n",
    "plt.axhline(y=0, color='b', linestyle='-')\n",
    "plt.xlabel(\"Actual\")\n",
    "plt.ylabel(\"Residuals\")\n",
    "plt.title('Residual Plot')\n",
    "plt.grid()\n",
    "plt.show()\n",
    "\n",
    "knn_hp_tuned_model = ('KNN Regressor Tuned', r2scoretr, r2score, rmse, seconds)"
   ]
  },
  {
   "cell_type": "code",
   "execution_count": 34,
   "id": "01f9871f",
   "metadata": {},
   "outputs": [],
   "source": [
    "knn_results_df = pd.DataFrame(grid_knn.cv_results_)"
   ]
  },
  {
   "cell_type": "code",
   "execution_count": 35,
   "id": "9ac788ee",
   "metadata": {},
   "outputs": [
    {
     "data": {
      "image/png": "[encoded data removed]",
      "text/plain": [
       "<Figure size 432x288 with 1 Axes>"
      ]
     },
     "metadata": {
      "needs_background": "light"
     },
     "output_type": "display_data"
    },
    {
     "data": {
      "image/png": "[encoded data removed]",
      "text/plain": [
       "<Figure size 432x288 with 1 Axes>"
      ]
     },
     "metadata": {
      "needs_background": "light"
     },
     "output_type": "display_data"
    }
   ],
   "source": [
    "# hyper parameter: k\n",
    "plt.figure(figsize=(6,4))\n",
    "sns.pointplot(data = knn_results_df[['mean_test_score', 'param_n_neighbors']],\n",
    "y = 'mean_test_score', x = 'param_n_neighbors')\n",
    "plt.title('Hyper parameter: K')\n",
    "plt.grid()\n",
    "plt.show()\n",
    "\n",
    "# hyper parameter: p\n",
    "plt.figure(figsize=(6,4))\n",
    "sns.pointplot(data = knn_results_df[['mean_test_score', 'param_p']],\n",
    "y = 'mean_test_score', x = 'param_p')\n",
    "plt.title('Hyper parameter: p')\n",
    "plt.grid()\n",
    "plt.show()"
   ]
  },
  {
   "cell_type": "code",
   "execution_count": 36,
   "id": "9cfe0102",
   "metadata": {},
   "outputs": [
    {
     "data": {
      "text/html": [
       "<div>\n",
       "<style scoped>\n",
       "    .dataframe tbody tr th:only-of-type {\n",
       "        vertical-align: middle;\n",
       "    }\n",
       "\n",
       "    .dataframe tbody tr th {\n",
       "        vertical-align: top;\n",
       "    }\n",
       "\n",
       "    .dataframe thead th {\n",
       "        text-align: right;\n",
       "    }\n",
       "</style>\n",
       "<table border=\"1\" class=\"dataframe\">\n",
       "  <thead>\n",
       "    <tr style=\"text-align: right;\">\n",
       "      <th></th>\n",
       "      <th>params</th>\n",
       "      <th>rank_test_score</th>\n",
       "      <th>mean_test_score</th>\n",
       "      <th>std_test_score</th>\n",
       "    </tr>\n",
       "    <tr>\n",
       "      <th>kernel</th>\n",
       "      <th></th>\n",
       "      <th></th>\n",
       "      <th></th>\n",
       "      <th></th>\n",
       "    </tr>\n",
       "  </thead>\n",
       "  <tbody>\n",
       "    <tr>\n",
       "      <th>4_1</th>\n",
       "      <td>{'n_neighbors': 4, 'p': 1}</td>\n",
       "      <td>1</td>\n",
       "      <td>0.811455</td>\n",
       "      <td>0.010702</td>\n",
       "    </tr>\n",
       "    <tr>\n",
       "      <th>3_1</th>\n",
       "      <td>{'n_neighbors': 3, 'p': 1}</td>\n",
       "      <td>2</td>\n",
       "      <td>0.809211</td>\n",
       "      <td>0.011487</td>\n",
       "    </tr>\n",
       "    <tr>\n",
       "      <th>5_1</th>\n",
       "      <td>{'n_neighbors': 5, 'p': 1}</td>\n",
       "      <td>3</td>\n",
       "      <td>0.807809</td>\n",
       "      <td>0.009274</td>\n",
       "    </tr>\n",
       "    <tr>\n",
       "      <th>6_1</th>\n",
       "      <td>{'n_neighbors': 6, 'p': 1}</td>\n",
       "      <td>4</td>\n",
       "      <td>0.805603</td>\n",
       "      <td>0.009818</td>\n",
       "    </tr>\n",
       "    <tr>\n",
       "      <th>7_1</th>\n",
       "      <td>{'n_neighbors': 7, 'p': 1}</td>\n",
       "      <td>5</td>\n",
       "      <td>0.802583</td>\n",
       "      <td>0.012348</td>\n",
       "    </tr>\n",
       "  </tbody>\n",
       "</table>\n",
       "</div>"
      ],
      "text/plain": [
       "                            params  rank_test_score  mean_test_score  \\\n",
       "kernel                                                                 \n",
       "4_1     {'n_neighbors': 4, 'p': 1}                1         0.811455   \n",
       "3_1     {'n_neighbors': 3, 'p': 1}                2         0.809211   \n",
       "5_1     {'n_neighbors': 5, 'p': 1}                3         0.807809   \n",
       "6_1     {'n_neighbors': 6, 'p': 1}                4         0.805603   \n",
       "7_1     {'n_neighbors': 7, 'p': 1}                5         0.802583   \n",
       "\n",
       "        std_test_score  \n",
       "kernel                  \n",
       "4_1           0.010702  \n",
       "3_1           0.011487  \n",
       "5_1           0.009274  \n",
       "6_1           0.009818  \n",
       "7_1           0.012348  "
      ]
     },
     "execution_count": 36,
     "metadata": {},
     "output_type": "execute_result"
    }
   ],
   "source": [
    "knn_results_df = knn_results_df.sort_values(by=[\"rank_test_score\"])\n",
    "knn_results_df = knn_results_df.set_index(\n",
    "    knn_results_df[\"params\"].apply(lambda x: \"_\".join(str(val) for val in x.values()))\n",
    ").rename_axis(\"kernel\")\n",
    "knn_results_df[[\"params\", \"rank_test_score\", \"mean_test_score\", \"std_test_score\"]].head()"
   ]
  },
  {
   "cell_type": "code",
   "execution_count": 37,
   "id": "2b781a12",
   "metadata": {},
   "outputs": [
    {
     "data": {
      "text/html": [
       "<div>\n",
       "<style scoped>\n",
       "    .dataframe tbody tr th:only-of-type {\n",
       "        vertical-align: middle;\n",
       "    }\n",
       "\n",
       "    .dataframe tbody tr th {\n",
       "        vertical-align: top;\n",
       "    }\n",
       "\n",
       "    .dataframe thead th {\n",
       "        text-align: right;\n",
       "    }\n",
       "</style>\n",
       "<table border=\"1\" class=\"dataframe\">\n",
       "  <thead>\n",
       "    <tr style=\"text-align: right;\">\n",
       "      <th></th>\n",
       "      <th>Model</th>\n",
       "      <th>Train R2</th>\n",
       "      <th>R2</th>\n",
       "      <th>RMSE</th>\n",
       "      <th>Computation_Time</th>\n",
       "    </tr>\n",
       "  </thead>\n",
       "  <tbody>\n",
       "    <tr>\n",
       "      <th>2</th>\n",
       "      <td>KNN Regressor Tuned</td>\n",
       "      <td>0.900832</td>\n",
       "      <td>0.826153</td>\n",
       "      <td>276.109430</td>\n",
       "      <td>1.155523</td>\n",
       "    </tr>\n",
       "    <tr>\n",
       "      <th>0</th>\n",
       "      <td>KNN Regressor</td>\n",
       "      <td>0.877772</td>\n",
       "      <td>0.809068</td>\n",
       "      <td>289.359522</td>\n",
       "      <td>1.281353</td>\n",
       "    </tr>\n",
       "    <tr>\n",
       "      <th>1</th>\n",
       "      <td>Dummy Model</td>\n",
       "      <td>0.000000</td>\n",
       "      <td>-0.001328</td>\n",
       "      <td>662.653312</td>\n",
       "      <td>0.000997</td>\n",
       "    </tr>\n",
       "  </tbody>\n",
       "</table>\n",
       "</div>"
      ],
      "text/plain": [
       "                 Model  Train R2        R2        RMSE  Computation_Time\n",
       "2  KNN Regressor Tuned  0.900832  0.826153  276.109430          1.155523\n",
       "0        KNN Regressor  0.877772  0.809068  289.359522          1.281353\n",
       "1          Dummy Model  0.000000 -0.001328  662.653312          0.000997"
      ]
     },
     "execution_count": 37,
     "metadata": {},
     "output_type": "execute_result"
    }
   ],
   "source": [
    "df_knn_results = pd.DataFrame([knn_model, baseline_model, knn_hp_tuned_model], columns=['Model', 'Train R2', 'R2', 'RMSE', 'Computation_Time'])\n",
    "df_knn_results.sort_values('R2', ascending=False)"
   ]
  },
  {
   "cell_type": "markdown",
   "id": "a560f541",
   "metadata": {},
   "source": [
    "## 6.2. Decision Tree Regressor <a class=\"anchor\" id=\"6.2.\"></a>"
   ]
  },
  {
   "cell_type": "code",
   "execution_count": 38,
   "id": "35b2e451",
   "metadata": {},
   "outputs": [
    {
     "name": "stdout",
     "output_type": "stream",
     "text": [
      "DT Regressor\n",
      "------------------------------\n",
      "Train R2 score: 1.00\n",
      "Validation R2 score: 0.79\n",
      "RMSE: 300.54\n",
      "Time to compute: 0.0509 seconds\n",
      "----------------------------------------------------------------------------------------------------\n"
     ]
    },
    {
     "data": {
      "image/png": "[encoded data removed]",
      "text/plain": [
       "<Figure size 432x288 with 1 Axes>"
      ]
     },
     "metadata": {
      "needs_background": "light"
     },
     "output_type": "display_data"
    },
    {
     "name": "stdout",
     "output_type": "stream",
     "text": [
      "----------------------------------------------------------------------------------------------------\n"
     ]
    },
    {
     "data": {
      "image/png": "[encoded data removed]",
      "text/plain": [
       "<Figure size 432x288 with 1 Axes>"
      ]
     },
     "metadata": {
      "needs_background": "light"
     },
     "output_type": "display_data"
    }
   ],
   "source": [
    "# Decision Tree Regressor\n",
    "dt = DecisionTreeRegressor(random_state = 10)\n",
    "\n",
    "start = datetime.now()\n",
    "dt.fit(X_train, y_train)\n",
    "y_pred_train = dt.predict(X_train) \n",
    "y_pred = dt.predict(X_valid)\n",
    "stop = datetime.now()\n",
    "delta = stop - start\n",
    "\n",
    "# performance metrics\n",
    "print('DT Regressor')\n",
    "print('-'*30)\n",
    "r2scoretr = r2_score(y_train, y_pred_train)\n",
    "print('Train R2 score: {:0.2f}'.format(r2scoretr))\n",
    "r2score = r2_score(y_valid, y_pred)\n",
    "print('Validation R2 score: {:0.2f}'.format(r2score))  \n",
    "rmse = np.sqrt(mean_squared_error(y_valid, y_pred))\n",
    "print('RMSE: {:0.2f}'.format(rmse))\n",
    "seconds = delta.seconds + delta.microseconds/1E6\n",
    "print('Time to compute: {:0.4f}'.format(seconds), 'seconds')\n",
    "print('-'*100)\n",
    "\n",
    "plt.figure(figsize=(6,4))\n",
    "plt.ylim(0, 3500)\n",
    "plt.xlim(0, 3500)\n",
    "plt.scatter(y_pred, y_valid, color='black')\n",
    "x = np.linspace(0,3500,100) \n",
    "y = x\n",
    "plt.plot(x, y, color='blue')\n",
    "plt.xlabel(\"Actual\")\n",
    "plt.ylabel(\"Predicted\")\n",
    "plt.title('Actual vs Predicted values Plot')\n",
    "plt.grid()\n",
    "plt.show()\n",
    "\n",
    "print('-'*100)\n",
    "\n",
    "plt.figure(figsize=(6,4))\n",
    "y = np.linspace(0,3500,100)\n",
    "x = np.linspace(0,0)\n",
    "residuals = y_valid - y_pred\n",
    "plt.scatter(x = y_valid, y = residuals, color = 'black')\n",
    "plt.axhline(y=0, color='b', linestyle='-')\n",
    "plt.xlabel(\"Actual\")\n",
    "plt.ylabel(\"Residuals\")\n",
    "plt.title('Residual Plot')\n",
    "plt.grid()\n",
    "plt.show()\n",
    "\n",
    "dt_model = ('DT Regressor', r2scoretr, r2score, rmse, seconds)"
   ]
  },
  {
   "cell_type": "markdown",
   "id": "f17f2309",
   "metadata": {},
   "source": [
    "### 6.2.1. Hyper parameter tuning <a class=\"anchor\" id=\"6.2.1.\"></a>"
   ]
  },
  {
   "cell_type": "code",
   "execution_count": 39,
   "id": "b6b2700d",
   "metadata": {},
   "outputs": [
    {
     "data": {
      "text/plain": [
       "DecisionTreeRegressor(max_depth=14, min_samples_leaf=3, min_samples_split=34,\n",
       "                      random_state=10)"
      ]
     },
     "execution_count": 39,
     "metadata": {},
     "output_type": "execute_result"
    }
   ],
   "source": [
    "max_depth = list(range(1,21))\n",
    "min_samples_leaf = list(range(1,11))\n",
    "min_samples_split = list(range(1,36))\n",
    "\n",
    "params = {'max_depth' : max_depth,\n",
    "          'min_samples_leaf' : min_samples_leaf,\n",
    "          'min_samples_split' : min_samples_split\n",
    "         }\n",
    "\n",
    "random_dt = RandomizedSearchCV(estimator = dt, param_distributions = params, n_iter = 100, cv = 5, random_state = 10, n_jobs = -1)\n",
    "\n",
    "random_dt.fit(X_train, y_train)\n",
    "\n",
    "random_dt.best_estimator_"
   ]
  },
  {
   "cell_type": "code",
   "execution_count": 40,
   "id": "cdca8853",
   "metadata": {},
   "outputs": [
    {
     "name": "stdout",
     "output_type": "stream",
     "text": [
      "DecisionTreeRegressor(max_depth=14, min_samples_leaf=3, min_samples_split=32,\n",
      "                      random_state=10)\n",
      "------------------------------\n",
      "DT Regressor Tuned\n",
      "------------------------------\n",
      "Train R2 Score: 0.91\n",
      "Validation R2 Score: 0.83\n",
      "RMSE: 274.53\n",
      "Time to compute: 0.0379 seconds\n",
      "----------------------------------------------------------------------------------------------------\n"
     ]
    },
    {
     "data": {
      "image/png": "[encoded data removed]",
      "text/plain": [
       "<Figure size 432x288 with 1 Axes>"
      ]
     },
     "metadata": {
      "needs_background": "light"
     },
     "output_type": "display_data"
    },
    {
     "name": "stdout",
     "output_type": "stream",
     "text": [
      "----------------------------------------------------------------------------------------------------\n"
     ]
    },
    {
     "data": {
      "image/png": "[encoded data removed]",
      "text/plain": [
       "<Figure size 432x288 with 1 Axes>"
      ]
     },
     "metadata": {
      "needs_background": "light"
     },
     "output_type": "display_data"
    }
   ],
   "source": [
    "params = {'max_depth': list(range(10,21)), #The maximum depth of the tree\n",
    "          'min_samples_leaf': list(range(1,6)), #The minimum number of samples required to be at a leaf node\n",
    "          \"min_samples_split\": list(range(30,41))}\n",
    "\n",
    "dt = DecisionTreeRegressor(random_state = 10)\n",
    "grid_dt = GridSearchCV(estimator = dt, param_grid = params, cv = 5, n_jobs = -1)\n",
    "grid_dt.fit(X_train, y_train)\n",
    "print(grid_dt.best_estimator_)\n",
    "print('-'*30)\n",
    "\n",
    "dt = grid_dt.best_estimator_\n",
    "\n",
    "start = datetime.now()\n",
    "dt.fit(X_train, y_train)\n",
    "y_pred_train = dt.predict(X_train) \n",
    "y_pred = dt.predict(X_valid)\n",
    "stop = datetime.now()\n",
    "delta = stop - start\n",
    "\n",
    "# performance metrics\n",
    "print('DT Regressor Tuned')\n",
    "print('-'*30)\n",
    "r2scoretr = r2_score(y_train, y_pred_train)\n",
    "print('Train R2 Score: {:0.2f}'.format(r2scoretr))\n",
    "r2score = r2_score(y_valid, y_pred)\n",
    "print('Validation R2 Score: {:0.2f}'.format(r2score))  \n",
    "rmse = np.sqrt(mean_squared_error(y_valid, y_pred))\n",
    "print('RMSE: {:0.2f}'.format(rmse))\n",
    "seconds = delta.seconds + delta.microseconds/1E6\n",
    "print('Time to compute: {:0.4f}'.format(seconds), 'seconds')\n",
    "print('-'*100)\n",
    "\n",
    "plt.figure(figsize=(6,4))\n",
    "plt.ylim(0, 3500)\n",
    "plt.xlim(0, 3500)\n",
    "plt.scatter(y_pred, y_valid, color='black')\n",
    "x = np.linspace(0,3500,100) \n",
    "y = x\n",
    "plt.plot(x, y, color='blue')\n",
    "plt.xlabel(\"Actual\")\n",
    "plt.ylabel(\"Predicted\")\n",
    "plt.title('Actual vs Predicted values Plot')\n",
    "plt.grid()\n",
    "plt.show()\n",
    "\n",
    "print('-'*100)\n",
    "\n",
    "plt.figure(figsize=(6,4))\n",
    "y = np.linspace(0,3500,100)\n",
    "x = np.linspace(0,0)\n",
    "residuals = y_valid - y_pred\n",
    "plt.scatter(x = y_valid, y = residuals, color = 'black')\n",
    "plt.axhline(y=0, color='b', linestyle='-')\n",
    "plt.xlabel(\"Actual\")\n",
    "plt.ylabel(\"Residuals\")\n",
    "plt.title('Residual Plot')\n",
    "plt.grid()\n",
    "plt.show()\n",
    "\n",
    "dt_tuned = ('DT Regressor Tuned', r2scoretr, r2score, rmse, seconds)"
   ]
  },
  {
   "cell_type": "code",
   "execution_count": 41,
   "id": "bea4d857",
   "metadata": {},
   "outputs": [
    {
     "data": {
      "image/png": "[encoded data removed]",
      "text/plain": [
       "<Figure size 432x288 with 1 Axes>"
      ]
     },
     "metadata": {
      "needs_background": "light"
     },
     "output_type": "display_data"
    },
    {
     "data": {
      "image/png": "[encoded data removed]",
      "text/plain": [
       "<Figure size 432x288 with 1 Axes>"
      ]
     },
     "metadata": {
      "needs_background": "light"
     },
     "output_type": "display_data"
    },
    {
     "data": {
      "image/png": "[encoded data removed]",
      "text/plain": [
       "<Figure size 432x288 with 1 Axes>"
      ]
     },
     "metadata": {
      "needs_background": "light"
     },
     "output_type": "display_data"
    }
   ],
   "source": [
    "dt_results_df = pd.DataFrame(grid_dt.cv_results_)\n",
    "\n",
    "# hyper parameter: max_depth\n",
    "plt.figure(figsize=(6,4))\n",
    "sns.pointplot(data = dt_results_df[['mean_test_score', 'param_max_depth']],\n",
    "y = 'mean_test_score', x = 'param_max_depth')\n",
    "plt.title('Hyper parameter: max_depth')\n",
    "plt.grid()\n",
    "plt.show()\n",
    "\n",
    "# hyper parameter: min_samples_leaf\n",
    "plt.figure(figsize=(6,4))\n",
    "sns.pointplot(data = dt_results_df[['mean_test_score', 'param_min_samples_leaf']],\n",
    "y = 'mean_test_score', x = 'param_min_samples_leaf')\n",
    "plt.title('Hyper parameter: min_samples_leaf')\n",
    "plt.grid()\n",
    "plt.show()\n",
    "\n",
    "# hyper parameter: min_samples_split\n",
    "plt.figure(figsize=(6,4))\n",
    "sns.pointplot(data = dt_results_df[['mean_test_score', 'param_min_samples_split']],\n",
    "y = 'mean_test_score', x = 'param_min_samples_split')\n",
    "plt.title('Hyper parameter: min_samples_split')\n",
    "plt.grid()\n",
    "plt.show()"
   ]
  },
  {
   "cell_type": "code",
   "execution_count": 42,
   "id": "c232e493",
   "metadata": {},
   "outputs": [
    {
     "data": {
      "text/html": [
       "<div>\n",
       "<style scoped>\n",
       "    .dataframe tbody tr th:only-of-type {\n",
       "        vertical-align: middle;\n",
       "    }\n",
       "\n",
       "    .dataframe tbody tr th {\n",
       "        vertical-align: top;\n",
       "    }\n",
       "\n",
       "    .dataframe thead th {\n",
       "        text-align: right;\n",
       "    }\n",
       "</style>\n",
       "<table border=\"1\" class=\"dataframe\">\n",
       "  <thead>\n",
       "    <tr style=\"text-align: right;\">\n",
       "      <th></th>\n",
       "      <th>params</th>\n",
       "      <th>rank_test_score</th>\n",
       "      <th>mean_test_score</th>\n",
       "      <th>std_test_score</th>\n",
       "    </tr>\n",
       "    <tr>\n",
       "      <th>kernel</th>\n",
       "      <th></th>\n",
       "      <th></th>\n",
       "      <th></th>\n",
       "      <th></th>\n",
       "    </tr>\n",
       "  </thead>\n",
       "  <tbody>\n",
       "    <tr>\n",
       "      <th>14_3_32</th>\n",
       "      <td>{'max_depth': 14, 'min_samples_leaf': 3, 'min_...</td>\n",
       "      <td>1</td>\n",
       "      <td>0.822159</td>\n",
       "      <td>0.008448</td>\n",
       "    </tr>\n",
       "    <tr>\n",
       "      <th>13_3_32</th>\n",
       "      <td>{'max_depth': 13, 'min_samples_leaf': 3, 'min_...</td>\n",
       "      <td>2</td>\n",
       "      <td>0.822112</td>\n",
       "      <td>0.007618</td>\n",
       "    </tr>\n",
       "    <tr>\n",
       "      <th>13_3_33</th>\n",
       "      <td>{'max_depth': 13, 'min_samples_leaf': 3, 'min_...</td>\n",
       "      <td>3</td>\n",
       "      <td>0.822025</td>\n",
       "      <td>0.007565</td>\n",
       "    </tr>\n",
       "    <tr>\n",
       "      <th>18_3_32</th>\n",
       "      <td>{'max_depth': 18, 'min_samples_leaf': 3, 'min_...</td>\n",
       "      <td>4</td>\n",
       "      <td>0.822024</td>\n",
       "      <td>0.008916</td>\n",
       "    </tr>\n",
       "    <tr>\n",
       "      <th>17_3_32</th>\n",
       "      <td>{'max_depth': 17, 'min_samples_leaf': 3, 'min_...</td>\n",
       "      <td>5</td>\n",
       "      <td>0.822020</td>\n",
       "      <td>0.008910</td>\n",
       "    </tr>\n",
       "    <tr>\n",
       "      <th>...</th>\n",
       "      <td>...</td>\n",
       "      <td>...</td>\n",
       "      <td>...</td>\n",
       "      <td>...</td>\n",
       "    </tr>\n",
       "    <tr>\n",
       "      <th>10_3_31</th>\n",
       "      <td>{'max_depth': 10, 'min_samples_leaf': 3, 'min_...</td>\n",
       "      <td>601</td>\n",
       "      <td>0.806669</td>\n",
       "      <td>0.010461</td>\n",
       "    </tr>\n",
       "    <tr>\n",
       "      <th>10_4_40</th>\n",
       "      <td>{'max_depth': 10, 'min_samples_leaf': 4, 'min_...</td>\n",
       "      <td>602</td>\n",
       "      <td>0.806582</td>\n",
       "      <td>0.010926</td>\n",
       "    </tr>\n",
       "    <tr>\n",
       "      <th>10_4_31</th>\n",
       "      <td>{'max_depth': 10, 'min_samples_leaf': 4, 'min_...</td>\n",
       "      <td>603</td>\n",
       "      <td>0.806514</td>\n",
       "      <td>0.009910</td>\n",
       "    </tr>\n",
       "    <tr>\n",
       "      <th>10_5_40</th>\n",
       "      <td>{'max_depth': 10, 'min_samples_leaf': 5, 'min_...</td>\n",
       "      <td>604</td>\n",
       "      <td>0.806461</td>\n",
       "      <td>0.009267</td>\n",
       "    </tr>\n",
       "    <tr>\n",
       "      <th>10_4_30</th>\n",
       "      <td>{'max_depth': 10, 'min_samples_leaf': 4, 'min_...</td>\n",
       "      <td>605</td>\n",
       "      <td>0.806339</td>\n",
       "      <td>0.010272</td>\n",
       "    </tr>\n",
       "  </tbody>\n",
       "</table>\n",
       "<p>605 rows × 4 columns</p>\n",
       "</div>"
      ],
      "text/plain": [
       "                                                    params  rank_test_score  \\\n",
       "kernel                                                                        \n",
       "14_3_32  {'max_depth': 14, 'min_samples_leaf': 3, 'min_...                1   \n",
       "13_3_32  {'max_depth': 13, 'min_samples_leaf': 3, 'min_...                2   \n",
       "13_3_33  {'max_depth': 13, 'min_samples_leaf': 3, 'min_...                3   \n",
       "18_3_32  {'max_depth': 18, 'min_samples_leaf': 3, 'min_...                4   \n",
       "17_3_32  {'max_depth': 17, 'min_samples_leaf': 3, 'min_...                5   \n",
       "...                                                    ...              ...   \n",
       "10_3_31  {'max_depth': 10, 'min_samples_leaf': 3, 'min_...              601   \n",
       "10_4_40  {'max_depth': 10, 'min_samples_leaf': 4, 'min_...              602   \n",
       "10_4_31  {'max_depth': 10, 'min_samples_leaf': 4, 'min_...              603   \n",
       "10_5_40  {'max_depth': 10, 'min_samples_leaf': 5, 'min_...              604   \n",
       "10_4_30  {'max_depth': 10, 'min_samples_leaf': 4, 'min_...              605   \n",
       "\n",
       "         mean_test_score  std_test_score  \n",
       "kernel                                    \n",
       "14_3_32         0.822159        0.008448  \n",
       "13_3_32         0.822112        0.007618  \n",
       "13_3_33         0.822025        0.007565  \n",
       "18_3_32         0.822024        0.008916  \n",
       "17_3_32         0.822020        0.008910  \n",
       "...                  ...             ...  \n",
       "10_3_31         0.806669        0.010461  \n",
       "10_4_40         0.806582        0.010926  \n",
       "10_4_31         0.806514        0.009910  \n",
       "10_5_40         0.806461        0.009267  \n",
       "10_4_30         0.806339        0.010272  \n",
       "\n",
       "[605 rows x 4 columns]"
      ]
     },
     "execution_count": 42,
     "metadata": {},
     "output_type": "execute_result"
    }
   ],
   "source": [
    "results_df = dt_results_df.sort_values(by=[\"rank_test_score\"])\n",
    "results_df = results_df.set_index(\n",
    "    results_df[\"params\"].apply(lambda x: \"_\".join(str(val) for val in x.values()))\n",
    ").rename_axis(\"kernel\")\n",
    "results_df[[\"params\", \"rank_test_score\", \"mean_test_score\", \"std_test_score\"]]"
   ]
  },
  {
   "cell_type": "code",
   "execution_count": 43,
   "id": "e718eae5",
   "metadata": {},
   "outputs": [
    {
     "data": {
      "text/html": [
       "<div>\n",
       "<style scoped>\n",
       "    .dataframe tbody tr th:only-of-type {\n",
       "        vertical-align: middle;\n",
       "    }\n",
       "\n",
       "    .dataframe tbody tr th {\n",
       "        vertical-align: top;\n",
       "    }\n",
       "\n",
       "    .dataframe thead th {\n",
       "        text-align: right;\n",
       "    }\n",
       "</style>\n",
       "<table border=\"1\" class=\"dataframe\">\n",
       "  <thead>\n",
       "    <tr style=\"text-align: right;\">\n",
       "      <th></th>\n",
       "      <th>Model</th>\n",
       "      <th>Train R2</th>\n",
       "      <th>R2</th>\n",
       "      <th>RMSE</th>\n",
       "      <th>Computation_Time</th>\n",
       "    </tr>\n",
       "  </thead>\n",
       "  <tbody>\n",
       "    <tr>\n",
       "      <th>2</th>\n",
       "      <td>DT Regressor Tuned</td>\n",
       "      <td>0.909788</td>\n",
       "      <td>0.828131</td>\n",
       "      <td>274.534826</td>\n",
       "      <td>0.037898</td>\n",
       "    </tr>\n",
       "    <tr>\n",
       "      <th>0</th>\n",
       "      <td>DT Regressor</td>\n",
       "      <td>1.000000</td>\n",
       "      <td>0.794028</td>\n",
       "      <td>300.540235</td>\n",
       "      <td>0.050863</td>\n",
       "    </tr>\n",
       "    <tr>\n",
       "      <th>1</th>\n",
       "      <td>Dummy Model</td>\n",
       "      <td>0.000000</td>\n",
       "      <td>-0.001328</td>\n",
       "      <td>662.653312</td>\n",
       "      <td>0.000997</td>\n",
       "    </tr>\n",
       "  </tbody>\n",
       "</table>\n",
       "</div>"
      ],
      "text/plain": [
       "                Model  Train R2        R2        RMSE  Computation_Time\n",
       "2  DT Regressor Tuned  0.909788  0.828131  274.534826          0.037898\n",
       "0        DT Regressor  1.000000  0.794028  300.540235          0.050863\n",
       "1         Dummy Model  0.000000 -0.001328  662.653312          0.000997"
      ]
     },
     "execution_count": 43,
     "metadata": {},
     "output_type": "execute_result"
    }
   ],
   "source": [
    "df_dt_results = pd.DataFrame([dt_model, baseline_model, dt_tuned], columns=['Model', 'Train R2', 'R2', 'RMSE', 'Computation_Time'])\n",
    "df_dt_results.sort_values('R2', ascending=False)"
   ]
  },
  {
   "cell_type": "markdown",
   "id": "c36a3a3b",
   "metadata": {},
   "source": [
    "# 7. Evaluating on Test <a class=\"anchor\" id=\"7.\"></a>"
   ]
  },
  {
   "cell_type": "code",
   "execution_count": 44,
   "id": "ec97c5ef",
   "metadata": {
    "scrolled": true
   },
   "outputs": [
    {
     "data": {
      "text/html": [
       "<div>\n",
       "<style scoped>\n",
       "    .dataframe tbody tr th:only-of-type {\n",
       "        vertical-align: middle;\n",
       "    }\n",
       "\n",
       "    .dataframe tbody tr th {\n",
       "        vertical-align: top;\n",
       "    }\n",
       "\n",
       "    .dataframe thead th {\n",
       "        text-align: right;\n",
       "    }\n",
       "</style>\n",
       "<table border=\"1\" class=\"dataframe\">\n",
       "  <thead>\n",
       "    <tr style=\"text-align: right;\">\n",
       "      <th></th>\n",
       "      <th>Model</th>\n",
       "      <th>Train R2</th>\n",
       "      <th>R2</th>\n",
       "      <th>RMSE</th>\n",
       "      <th>Computation_Time</th>\n",
       "    </tr>\n",
       "  </thead>\n",
       "  <tbody>\n",
       "    <tr>\n",
       "      <th>4</th>\n",
       "      <td>DT Regressor Tuned</td>\n",
       "      <td>0.909788</td>\n",
       "      <td>0.828131</td>\n",
       "      <td>274.534826</td>\n",
       "      <td>0.037898</td>\n",
       "    </tr>\n",
       "    <tr>\n",
       "      <th>2</th>\n",
       "      <td>KNN Regressor Tuned</td>\n",
       "      <td>0.900832</td>\n",
       "      <td>0.826153</td>\n",
       "      <td>276.109430</td>\n",
       "      <td>1.155523</td>\n",
       "    </tr>\n",
       "    <tr>\n",
       "      <th>0</th>\n",
       "      <td>KNN Regressor</td>\n",
       "      <td>0.877772</td>\n",
       "      <td>0.809068</td>\n",
       "      <td>289.359522</td>\n",
       "      <td>1.281353</td>\n",
       "    </tr>\n",
       "    <tr>\n",
       "      <th>3</th>\n",
       "      <td>DT Regressor</td>\n",
       "      <td>1.000000</td>\n",
       "      <td>0.794028</td>\n",
       "      <td>300.540235</td>\n",
       "      <td>0.050863</td>\n",
       "    </tr>\n",
       "    <tr>\n",
       "      <th>1</th>\n",
       "      <td>Dummy Model</td>\n",
       "      <td>0.000000</td>\n",
       "      <td>-0.001328</td>\n",
       "      <td>662.653312</td>\n",
       "      <td>0.000997</td>\n",
       "    </tr>\n",
       "  </tbody>\n",
       "</table>\n",
       "</div>"
      ],
      "text/plain": [
       "                 Model  Train R2        R2        RMSE  Computation_Time\n",
       "4   DT Regressor Tuned  0.909788  0.828131  274.534826          0.037898\n",
       "2  KNN Regressor Tuned  0.900832  0.826153  276.109430          1.155523\n",
       "0        KNN Regressor  0.877772  0.809068  289.359522          1.281353\n",
       "3         DT Regressor  1.000000  0.794028  300.540235          0.050863\n",
       "1          Dummy Model  0.000000 -0.001328  662.653312          0.000997"
      ]
     },
     "execution_count": 44,
     "metadata": {},
     "output_type": "execute_result"
    }
   ],
   "source": [
    "results = pd.DataFrame([knn_model, baseline_model, knn_hp_tuned_model, dt_model, dt_tuned], columns = ['Model', 'Train R2', 'R2', 'RMSE', 'Computation_Time'])\n",
    "results.sort_values('RMSE', ascending=True)"
   ]
  },
  {
   "cell_type": "code",
   "execution_count": 45,
   "id": "68de6416",
   "metadata": {
    "scrolled": false
   },
   "outputs": [
    {
     "name": "stdout",
     "output_type": "stream",
     "text": [
      "DT Regressor Test\n",
      "------------------------------\n",
      "Train R2 Score: 0.91\n",
      "Test R2 Score: 0.84\n",
      "RMSE: 254.02\n",
      "Time to compute: 0.0439 seconds\n",
      "----------------------------------------------------------------------------------------------------\n"
     ]
    },
    {
     "data": {
      "image/png": "[encoded data removed]",
      "text/plain": [
       "<Figure size 432x288 with 1 Axes>"
      ]
     },
     "metadata": {
      "needs_background": "light"
     },
     "output_type": "display_data"
    },
    {
     "name": "stdout",
     "output_type": "stream",
     "text": [
      "----------------------------------------------------------------------------------------------------\n"
     ]
    },
    {
     "data": {
      "image/png": "[encoded data removed]",
      "text/plain": [
       "<Figure size 432x288 with 1 Axes>"
      ]
     },
     "metadata": {
      "needs_background": "light"
     },
     "output_type": "display_data"
    }
   ],
   "source": [
    "# Decision Tree Regressor\n",
    "dt = DecisionTreeRegressor(max_depth=14, min_samples_leaf=3, min_samples_split=32, random_state=10) \n",
    "\n",
    "start = datetime.now()\n",
    "dt.fit(X_train, y_train)\n",
    "y_pred_train = dt.predict(X_train) \n",
    "y_pred = dt.predict(X_test)\n",
    "stop = datetime.now()\n",
    "delta = stop - start\n",
    "\n",
    "# performance metrics\n",
    "print('DT Regressor Test')\n",
    "print('-'*30)\n",
    "r2scoretr = r2_score(y_train, y_pred_train)\n",
    "print('Train R2 Score: {:0.2f}'.format(r2scoretr))\n",
    "r2score = r2_score(y_test, y_pred)\n",
    "print('Test R2 Score: {:0.2f}'.format(r2score))\n",
    "rmse = np.sqrt(mean_squared_error(y_test, y_pred))\n",
    "print('RMSE: {:0.2f}'.format(rmse))\n",
    "seconds = delta.seconds + delta.microseconds/1E6\n",
    "print('Time to compute: {:0.4f}'.format(seconds), 'seconds')\n",
    "print('-'*100)\n",
    "\n",
    "plt.figure(figsize=(6,4))\n",
    "plt.ylim(0, 3500)\n",
    "plt.xlim(0, 3500)\n",
    "plt.scatter(y_pred, y_test, color='black')\n",
    "x = np.linspace(0,3500,100) \n",
    "y = x\n",
    "plt.plot(x, y, color='blue')\n",
    "plt.xlabel(\"Actual\")\n",
    "plt.ylabel(\"Predicted\")\n",
    "plt.title('Actual vs Predicted values Plot')\n",
    "plt.grid()\n",
    "plt.show()\n",
    "\n",
    "print('-'*100)\n",
    "\n",
    "plt.figure(figsize=(6,4))\n",
    "y = np.linspace(0,3500,100)\n",
    "x = np.linspace(0,0)\n",
    "residuals = y_test - y_pred\n",
    "plt.scatter(x = y_test, y = residuals, color = 'black')\n",
    "plt.axhline(y=0, color='b', linestyle='-')\n",
    "plt.xlabel(\"Actual\")\n",
    "plt.ylabel(\"Residuals\")\n",
    "plt.title('Residual Plot')\n",
    "plt.grid()\n",
    "plt.show()\n",
    "\n",
    "dt_test = ('DT Regressor Test', r2scoretr, r2score, rmse, seconds)"
   ]
  },
  {
   "cell_type": "markdown",
   "id": "acc568cf",
   "metadata": {},
   "source": [
    "---"
   ]
  },
  {
   "cell_type": "markdown",
   "id": "b5c10a03",
   "metadata": {},
   "source": [
    "# 8. Conclusion <a class=\"anchor\" id=\"8.\"></a>"
   ]
  },
  {
   "cell_type": "code",
   "execution_count": 46,
   "id": "fbe47c09",
   "metadata": {},
   "outputs": [
    {
     "data": {
      "text/html": [
       "<div>\n",
       "<style scoped>\n",
       "    .dataframe tbody tr th:only-of-type {\n",
       "        vertical-align: middle;\n",
       "    }\n",
       "\n",
       "    .dataframe tbody tr th {\n",
       "        vertical-align: top;\n",
       "    }\n",
       "\n",
       "    .dataframe thead th {\n",
       "        text-align: right;\n",
       "    }\n",
       "</style>\n",
       "<table border=\"1\" class=\"dataframe\">\n",
       "  <thead>\n",
       "    <tr style=\"text-align: right;\">\n",
       "      <th></th>\n",
       "      <th>Model</th>\n",
       "      <th>Train R2</th>\n",
       "      <th>R2</th>\n",
       "      <th>RMSE</th>\n",
       "      <th>Computation_Time</th>\n",
       "    </tr>\n",
       "  </thead>\n",
       "  <tbody>\n",
       "    <tr>\n",
       "      <th>5</th>\n",
       "      <td>DT Regressor Test</td>\n",
       "      <td>0.909788</td>\n",
       "      <td>0.836626</td>\n",
       "      <td>254.024388</td>\n",
       "      <td>0.043883</td>\n",
       "    </tr>\n",
       "    <tr>\n",
       "      <th>4</th>\n",
       "      <td>DT Regressor Tuned</td>\n",
       "      <td>0.909788</td>\n",
       "      <td>0.828131</td>\n",
       "      <td>274.534826</td>\n",
       "      <td>0.037898</td>\n",
       "    </tr>\n",
       "    <tr>\n",
       "      <th>2</th>\n",
       "      <td>KNN Regressor Tuned</td>\n",
       "      <td>0.900832</td>\n",
       "      <td>0.826153</td>\n",
       "      <td>276.109430</td>\n",
       "      <td>1.155523</td>\n",
       "    </tr>\n",
       "    <tr>\n",
       "      <th>0</th>\n",
       "      <td>KNN Regressor</td>\n",
       "      <td>0.877772</td>\n",
       "      <td>0.809068</td>\n",
       "      <td>289.359522</td>\n",
       "      <td>1.281353</td>\n",
       "    </tr>\n",
       "    <tr>\n",
       "      <th>3</th>\n",
       "      <td>DT Regressor</td>\n",
       "      <td>1.000000</td>\n",
       "      <td>0.794028</td>\n",
       "      <td>300.540235</td>\n",
       "      <td>0.050863</td>\n",
       "    </tr>\n",
       "    <tr>\n",
       "      <th>1</th>\n",
       "      <td>Dummy Model</td>\n",
       "      <td>0.000000</td>\n",
       "      <td>-0.001328</td>\n",
       "      <td>662.653312</td>\n",
       "      <td>0.000997</td>\n",
       "    </tr>\n",
       "  </tbody>\n",
       "</table>\n",
       "</div>"
      ],
      "text/plain": [
       "                 Model  Train R2        R2        RMSE  Computation_Time\n",
       "5    DT Regressor Test  0.909788  0.836626  254.024388          0.043883\n",
       "4   DT Regressor Tuned  0.909788  0.828131  274.534826          0.037898\n",
       "2  KNN Regressor Tuned  0.900832  0.826153  276.109430          1.155523\n",
       "0        KNN Regressor  0.877772  0.809068  289.359522          1.281353\n",
       "3         DT Regressor  1.000000  0.794028  300.540235          0.050863\n",
       "1          Dummy Model  0.000000 -0.001328  662.653312          0.000997"
      ]
     },
     "execution_count": 46,
     "metadata": {},
     "output_type": "execute_result"
    }
   ],
   "source": [
    "results = pd.DataFrame([knn_model, baseline_model, knn_hp_tuned_model, dt_model, dt_tuned, dt_test], columns = ['Model', 'Train R2', 'R2', 'RMSE', 'Computation_Time'])\n",
    "results.sort_values('RMSE', ascending=True)"
   ]
  },
  {
   "cell_type": "code",
   "execution_count": 47,
   "id": "0f0caf31",
   "metadata": {},
   "outputs": [
    {
     "data": {
      "image/png": "[encoded data removed]",
      "text/plain": [
       "<Figure size 432x288 with 1 Axes>"
      ]
     },
     "metadata": {
      "needs_background": "light"
     },
     "output_type": "display_data"
    },
    {
     "name": "stdout",
     "output_type": "stream",
     "text": [
      "----------------------------------------------------------------------------------------------------\n"
     ]
    },
    {
     "data": {
      "image/png": "[encoded data removed]",
      "text/plain": [
       "<Figure size 432x288 with 1 Axes>"
      ]
     },
     "metadata": {
      "needs_background": "light"
     },
     "output_type": "display_data"
    }
   ],
   "source": [
    "# RMSE\n",
    "plt.figure(figsize=[6, 4])\n",
    "plt.barh(['DT Regressor Test', 'DT Regressor Tuned', 'KNN Regressor Tuned', 'KNN Regressor', 'DT Regressor','Dummy Model'], [254.024388, 274.534826, 276.109430, 289.359522, 300.540235, 662.653312],label = \"Error\")\n",
    "plt.legend()\n",
    "plt.xlabel('RMSE')\n",
    "plt.ylabel('Models')\n",
    "plt.title('Final Results (RMSE)')\n",
    "plt.show()\n",
    "\n",
    "print('-'*100)\n",
    "\n",
    "plt.figure(figsize=[6, 4])\n",
    "plt.barh(['DT Regressor Test', 'DT Regressor Tuned', 'KNN Regressor Tuned', 'KNN Regressor', 'DT Regressor','Dummy Model'], [0.836626, 0.828131, 0.826153, 0.809068, 0.794028, -0.001328],label = \"R2 Score\")\n",
    "plt.legend()\n",
    "plt.xlabel('R2 score')\n",
    "plt.ylabel('Models')\n",
    "plt.title('Final Results (R2 Score)')\n",
    "plt.show()"
   ]
  },
  {
   "cell_type": "markdown",
   "id": "d6729ce5",
   "metadata": {},
   "source": [
    "---"
   ]
  },
  {
   "cell_type": "markdown",
   "id": "b54d46dc",
   "metadata": {},
   "source": [
    "# 9. References <a class=\"anchor\" id=\"9.\"></a>"
   ]
  },
  {
   "cell_type": "markdown",
   "id": "342321b2",
   "metadata": {},
   "source": [
    ">    * [Kaggle](https://www.kaggle.com/)\n",
    ">    * [Machine Learning Mastery](https://machinelearningmastery.com/)\n",
    ">    * [Analytics Vidhya](https://www.analyticsvidhya.com/)\n",
    ">    * [Towards Data Science](https://towardsdatascience.com/)\n",
    ">    * [Analytics India Mag](https://analyticsindiamag.com/)"
   ]
  }
 ],
 "metadata": {
  "kernelspec": {
   "display_name": "Python 3",
   "language": "python",
   "name": "python3"
  },
  "language_info": {
   "codemirror_mode": {
    "name": "ipython",
    "version": 3
   },
   "file_extension": ".py",
   "mimetype": "text/x-python",
   "name": "python",
   "nbconvert_exporter": "python",
   "pygments_lexer": "ipython3",
   "version": "3.8.8"
  }
 },
 "nbformat": 4,
 "nbformat_minor": 5
}
